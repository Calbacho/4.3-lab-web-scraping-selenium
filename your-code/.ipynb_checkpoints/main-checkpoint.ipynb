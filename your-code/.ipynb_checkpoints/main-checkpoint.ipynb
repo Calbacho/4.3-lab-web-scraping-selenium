{
 "cells": [
  {
   "cell_type": "markdown",
   "metadata": {},
   "source": [
    "# Web Scraping Lab\n",
    "\n",
    "You will find in this notebook some scrapy exercises to practise your scraping skills.\n",
    "\n",
    "**Tips:**\n",
    "\n",
    "- Check the response status code for each request to ensure you have obtained the intended contennt.\n",
    "- Print the response text in each request to understand the kind of info you are getting and its format.\n",
    "- Check for patterns in the response text to extract the data/info requested in each question.\n",
    "- Visit each url and take a look at its source through Chrome DevTools. You'll need to identify the html tags, special class names etc. used for the html content you are expected to extract."
   ]
  },
  {
   "cell_type": "markdown",
   "metadata": {},
   "source": [
    "- [Selenium Doc](https://www.selenium.dev/documentation/)\n",
    "- [Requests library](http://docs.python-requests.org/en/master/#the-user-guide) documentation \n",
    "- [Urllib](https://docs.python.org/3/library/urllib.html#module-urllib)\n",
    "- [re lib](https://docs.python.org/3/library/re.html)\n",
    "- [lxml lib](https://lxml.de/)\n",
    "- [Scrapy](https://scrapy.org/)\n",
    "- [List of HTTP status codes](https://en.wikipedia.org/wiki/List_of_HTTP_status_codes)\n",
    "- [HTML basics](http://www.simplehtmlguide.com/cheatsheet.php)\n",
    "- [CSS basics](https://www.cssbasics.com/#page_start)"
   ]
  },
  {
   "cell_type": "markdown",
   "metadata": {},
   "source": [
    "#### Below are the libraries and modules you may need. `Selenium` and `pandas` are imported for you."
   ]
  },
  {
   "cell_type": "code",
   "execution_count": 1,
   "metadata": {},
   "outputs": [
    {
     "name": "stdout",
     "output_type": "stream",
     "text": [
      "Requirement already satisfied: selenium in c:\\users\\calba\\anaconda3\\lib\\site-packages (4.8.0)\n",
      "Requirement already satisfied: certifi>=2021.10.8 in c:\\users\\calba\\anaconda3\\lib\\site-packages (from selenium) (2022.9.14)\n",
      "Requirement already satisfied: trio-websocket~=0.9 in c:\\users\\calba\\anaconda3\\lib\\site-packages (from selenium) (0.9.2)\n",
      "Requirement already satisfied: urllib3[socks]~=1.26 in c:\\users\\calba\\anaconda3\\lib\\site-packages (from selenium) (1.26.11)\n",
      "Requirement already satisfied: trio~=0.17 in c:\\users\\calba\\anaconda3\\lib\\site-packages (from selenium) (0.22.0)\n",
      "Requirement already satisfied: cffi>=1.14 in c:\\users\\calba\\anaconda3\\lib\\site-packages (from trio~=0.17->selenium) (1.15.1)\n",
      "Requirement already satisfied: async-generator>=1.9 in c:\\users\\calba\\anaconda3\\lib\\site-packages (from trio~=0.17->selenium) (1.10)\n",
      "Requirement already satisfied: sortedcontainers in c:\\users\\calba\\anaconda3\\lib\\site-packages (from trio~=0.17->selenium) (2.4.0)\n",
      "Requirement already satisfied: exceptiongroup>=1.0.0rc9 in c:\\users\\calba\\anaconda3\\lib\\site-packages (from trio~=0.17->selenium) (1.1.0)\n",
      "Requirement already satisfied: idna in c:\\users\\calba\\anaconda3\\lib\\site-packages (from trio~=0.17->selenium) (3.3)\n",
      "Requirement already satisfied: sniffio in c:\\users\\calba\\anaconda3\\lib\\site-packages (from trio~=0.17->selenium) (1.2.0)\n",
      "Requirement already satisfied: outcome in c:\\users\\calba\\anaconda3\\lib\\site-packages (from trio~=0.17->selenium) (1.2.0)\n",
      "Requirement already satisfied: attrs>=19.2.0 in c:\\users\\calba\\anaconda3\\lib\\site-packages (from trio~=0.17->selenium) (21.4.0)\n",
      "Requirement already satisfied: wsproto>=0.14 in c:\\users\\calba\\anaconda3\\lib\\site-packages (from trio-websocket~=0.9->selenium) (1.2.0)\n",
      "Requirement already satisfied: PySocks!=1.5.7,<2.0,>=1.5.6 in c:\\users\\calba\\anaconda3\\lib\\site-packages (from urllib3[socks]~=1.26->selenium) (1.7.1)\n",
      "Requirement already satisfied: pycparser in c:\\users\\calba\\anaconda3\\lib\\site-packages (from cffi>=1.14->trio~=0.17->selenium) (2.21)\n",
      "Requirement already satisfied: h11<1,>=0.9.0 in c:\\users\\calba\\anaconda3\\lib\\site-packages (from wsproto>=0.14->trio-websocket~=0.9->selenium) (0.14.0)\n",
      "Note: you may need to restart the kernel to use updated packages.\n"
     ]
    }
   ],
   "source": [
    "pip install selenium"
   ]
  },
  {
   "cell_type": "code",
   "execution_count": 1,
   "metadata": {},
   "outputs": [],
   "source": [
    "import pandas as pd\n",
    "from selenium import webdriver\n",
    "from selenium.webdriver.chrome.options import Options\n",
    "from webdriver_manager.chrome import ChromeDriverManager\n",
    "from selenium.webdriver.common.by import By # By es para buscar por tag, clase, id...\n",
    "\n",
    "import time\n",
    "\n",
    "import warnings\n",
    "warnings.filterwarnings('ignore')"
   ]
  },
  {
   "cell_type": "markdown",
   "metadata": {},
   "source": [
    "#### Enable the options you may need. In the next cell you have an example of them but you can choose to use them or not."
   ]
  },
  {
   "cell_type": "code",
   "execution_count": 2,
   "metadata": {},
   "outputs": [],
   "source": [
    "#driver configuration\n",
    "opciones=Options()\n",
    "\n",
    "opciones.add_experimental_option('excludeSwitches', ['enable-automation'])\n",
    "opciones.add_experimental_option('useAutomationExtension', False)\n",
    "opciones.headless=False    # si True, no aperece la ventana (headless=no visible)\n",
    "opciones.add_argument('--start-maximized')         # comienza maximizado\n",
    "#opciones.add_argument('user-data-dir=selenium')    # mantiene las cookies\n",
    "#opciones.add_extension('driver_folder/adblock.crx')       # adblocker\n",
    "opciones.add_argument('--incognito')"
   ]
  },
  {
   "cell_type": "code",
   "execution_count": 3,
   "metadata": {},
   "outputs": [],
   "source": [
    "driver = ChromeDriverManager().install()  #remember substitute this for your driver path\n",
    "driver = webdriver.Chrome(driver,options = opciones)"
   ]
  },
  {
   "cell_type": "markdown",
   "metadata": {},
   "source": [
    "#### Download, parse, and print the content from the Trending Developers page from GitHub:"
   ]
  },
  {
   "cell_type": "code",
   "execution_count": 5,
   "metadata": {},
   "outputs": [],
   "source": [
    "# This is the url you will scrape in this exercise\n",
    "url = 'https://github.com/trending/developers'"
   ]
  },
  {
   "cell_type": "code",
   "execution_count": 6,
   "metadata": {},
   "outputs": [],
   "source": [
    "driver.get(url)"
   ]
  },
  {
   "cell_type": "markdown",
   "metadata": {},
   "source": [
    "#### Display the names of the trending developers retrieved in the previous step.\n",
    "\n",
    "Your output should be a Python list of developer names. Each name should not contain any html tag.\n",
    "\n",
    "**Instructions:**\n",
    "\n",
    "1. Find out the html tag and class names used for the developer names.\n",
    "\n",
    "1. Use string manipulation techniques to replace whitespaces and linebreaks (i.e. `\\n`) in the *text* of each html element. Use a list to store the clean names.\n",
    "\n",
    "1. Print the list of names.\n",
    "\n",
    "Your output should look like below:\n",
    "\n",
    "```\n",
    "['trimstray (@trimstray)',\n",
    " 'joewalnes (JoeWalnes)',\n",
    " 'charlax (Charles-AxelDein)',\n",
    " 'ForrestKnight (ForrestKnight)',\n",
    " 'revery-ui (revery-ui)',\n",
    " 'alibaba (Alibaba)',\n",
    " 'Microsoft (Microsoft)',\n",
    " 'github (GitHub)',\n",
    " 'facebook (Facebook)',\n",
    " 'boazsegev (Bo)',\n",
    " 'google (Google)',\n",
    " 'cloudfetch',\n",
    " 'sindresorhus (SindreSorhus)',\n",
    " 'tensorflow',\n",
    " 'apache (TheApacheSoftwareFoundation)',\n",
    " 'DevonCrawford (DevonCrawford)',\n",
    " 'ARMmbed (ArmMbed)',\n",
    " 'vuejs (vuejs)',\n",
    " 'fastai (fast.ai)',\n",
    " 'QiShaoXuan (Qi)',\n",
    " 'joelparkerhenderson (JoelParkerHenderson)',\n",
    " 'torvalds (LinusTorvalds)',\n",
    " 'CyC2018',\n",
    " 'komeiji-satori (神楽坂覚々)',\n",
    " 'script-8']\n",
    " ```"
   ]
  },
  {
   "cell_type": "code",
   "execution_count": 7,
   "metadata": {},
   "outputs": [
    {
     "data": {
      "text/plain": [
       "['Ariel Mashraki',\n",
       " 'golang-cheat-sheet',\n",
       " 'Henrik Rydgård',\n",
       " 'ppsspp',\n",
       " 'jxxghp',\n",
       " 'nas-tools',\n",
       " 'Shrikant Sharat Kandula',\n",
       " 'prestige',\n",
       " 'Azure SDK Bot',\n",
       " 'azure-powershell',\n",
       " 'Casey Rodarmor',\n",
       " 'ord',\n",
       " 'Florian Roth',\n",
       " 'tiny-shells',\n",
       " 'Brad Fitzpatrick',\n",
       " 'gomemcache',\n",
       " 'Emil Ernerfeldt',\n",
       " 'egui',\n",
       " 'atomiks',\n",
       " 'tippyjs',\n",
       " 'Jeffrey Su',\n",
       " 'WeiXinMPSDK',\n",
       " 'Yair Morgenstern',\n",
       " 'Unciv',\n",
       " 'Manuel Kaufmann',\n",
       " 'Paul Razvan Berg',\n",
       " 'hardhat-template',\n",
       " 'Matt Karl',\n",
       " 'nodiscc',\n",
       " 'awesome-linuxaudio',\n",
       " 'Matthew Leibowitz',\n",
       " 'dotnetconf2022',\n",
       " 'Maarten Grootendorst',\n",
       " 'BERTopic',\n",
       " 'Ben McCann',\n",
       " 'esm-env',\n",
       " 'Costa Huang',\n",
       " 'cleanrl',\n",
       " 'François Chollet',\n",
       " 'namex',\n",
       " 'Ross Wightman',\n",
       " 'pytorch-image-models',\n",
       " 'Robert Martin',\n",
       " 'MolecularNotes',\n",
       " 'Huon Wilson',\n",
       " 'Zhian N. Kamvar',\n",
       " 'beaverdown']"
      ]
     },
     "execution_count": 7,
     "metadata": {},
     "output_type": "execute_result"
    }
   ],
   "source": [
    "lst = []\n",
    "\n",
    "for i in driver.find_elements(By.TAG_NAME, 'h1'):\n",
    "    \n",
    "    try:\n",
    "        lst.append(i.find_element(By.TAG_NAME, 'a').text)\n",
    "    except:\n",
    "        continue\n",
    "\n",
    "lst"
   ]
  },
  {
   "cell_type": "code",
   "execution_count": 8,
   "metadata": {},
   "outputs": [
    {
     "data": {
      "text/plain": [
       "['Ariel Mashraki',\n",
       " 'Henrik Rydgård',\n",
       " 'jxxghp',\n",
       " 'Shrikant Sharat Kandula',\n",
       " 'Azure SDK Bot',\n",
       " 'Casey Rodarmor',\n",
       " 'Florian Roth',\n",
       " 'Brad Fitzpatrick',\n",
       " 'Emil Ernerfeldt',\n",
       " 'atomiks',\n",
       " 'Jeffrey Su',\n",
       " 'Yair Morgenstern',\n",
       " 'Manuel Kaufmann',\n",
       " 'Paul Razvan Berg',\n",
       " 'Matt Karl',\n",
       " 'nodiscc',\n",
       " 'Matthew Leibowitz',\n",
       " 'Maarten Grootendorst',\n",
       " 'Ben McCann',\n",
       " 'Costa Huang',\n",
       " 'François Chollet',\n",
       " 'Ross Wightman',\n",
       " 'Robert Martin',\n",
       " 'Huon Wilson',\n",
       " 'Zhian N. Kamvar']"
      ]
     },
     "execution_count": 8,
     "metadata": {},
     "output_type": "execute_result"
    }
   ],
   "source": [
    "lst = []\n",
    "\n",
    "for i in driver.find_elements(By.CLASS_NAME, 'h3.lh-condensed'):\n",
    "    \n",
    "    lst.append(i.text)\n",
    "    \n",
    "lst"
   ]
  },
  {
   "cell_type": "markdown",
   "metadata": {},
   "source": [
    "#### Display the trending Python repositories in GitHub\n",
    "\n",
    "The steps to solve this problem is similar to the previous one except that you need to find out the repository names instead of developer names."
   ]
  },
  {
   "cell_type": "code",
   "execution_count": 9,
   "metadata": {},
   "outputs": [],
   "source": [
    "# This is the url you will scrape in this exercise\n",
    "url = 'https://github.com/trending/python?since=daily'\n",
    "driver.get(url)"
   ]
  },
  {
   "cell_type": "code",
   "execution_count": 10,
   "metadata": {},
   "outputs": [
    {
     "data": {
      "text/plain": [
       "['acikkaynak / deprem-yardim-backend',\n",
       " 'TheAlgorithms / Python',\n",
       " 'Zero6992 / chatGPT-discord-bot',\n",
       " 'zhayujie / chatgpt-on-wechat',\n",
       " 'TEXTurePaper / TEXTurePaper',\n",
       " 'acheong08 / ChatGPT',\n",
       " 'LAION-AI / Open-Assistant',\n",
       " 'AIGCT / EASYChatGPT',\n",
       " 'BlinkDL / ChatRWKV',\n",
       " 'ddPn08 / Lsmith',\n",
       " 'd2l-ai / d2l-zh',\n",
       " 'chidiwilliams / buzz',\n",
       " 'arc53 / DocsGPT',\n",
       " 'prowler-cloud / prowler',\n",
       " 'openai / openai-python',\n",
       " 'hwchase17 / langchain',\n",
       " 'karfly / chatgpt_telegram_bot',\n",
       " 'biancangming / wtv',\n",
       " 'LlmKira / Openaibot',\n",
       " 'BlinkDL / RWKV-LM',\n",
       " 'wagtail / wagtail',\n",
       " 'PaddlePaddle / ERNIE',\n",
       " 'MrMimic / data-scientist-roadmap',\n",
       " 'PaddlePaddle / PaddleSpeech',\n",
       " 'bellingcat / octosuite']"
      ]
     },
     "execution_count": 10,
     "metadata": {},
     "output_type": "execute_result"
    }
   ],
   "source": [
    "lst = []\n",
    "\n",
    "for i in driver.find_elements(By.CLASS_NAME, 'h3.lh-condensed'):\n",
    "    \n",
    "    lst.append(i.text)\n",
    "    \n",
    "lst"
   ]
  },
  {
   "cell_type": "markdown",
   "metadata": {},
   "source": [
    "#### Display all the image links from Walt Disney wikipedia page"
   ]
  },
  {
   "cell_type": "code",
   "execution_count": 11,
   "metadata": {},
   "outputs": [],
   "source": [
    "# This is the url you will scrape in this exercise\n",
    "url = 'https://en.wikipedia.org/wiki/Walt_Disney'\n",
    "driver.get(url)"
   ]
  },
  {
   "cell_type": "code",
   "execution_count": 12,
   "metadata": {},
   "outputs": [
    {
     "data": {
      "text/plain": [
       "['https://en.wikipedia.org/static/images/icons/wikipedia.png',\n",
       " 'https://en.wikipedia.org/static/images/mobile/copyright/wikipedia-wordmark-en.svg',\n",
       " 'https://en.wikipedia.org/static/images/mobile/copyright/wikipedia-tagline-en.svg',\n",
       " 'https://upload.wikimedia.org/wikipedia/en/thumb/e/e7/Cscr-featured.svg/20px-Cscr-featured.svg.png',\n",
       " 'https://upload.wikimedia.org/wikipedia/en/thumb/8/8c/Extended-protection-shackle.svg/20px-Extended-protection-shackle.svg.png',\n",
       " 'https://upload.wikimedia.org/wikipedia/commons/thumb/d/df/Walt_Disney_1946.JPG/220px-Walt_Disney_1946.JPG',\n",
       " 'https://upload.wikimedia.org/wikipedia/commons/thumb/8/87/Walt_Disney_1942_signature.svg/150px-Walt_Disney_1942_signature.svg.png',\n",
       " 'https://upload.wikimedia.org/wikipedia/commons/thumb/3/3a/Walt_Disney_Birthplace_Exterior_Hermosa_Chicago_Illinois.jpg/220px-Walt_Disney_Birthplace_Exterior_Hermosa_Chicago_Illinois.jpg',\n",
       " 'https://upload.wikimedia.org/wikipedia/commons/thumb/c/c4/Walt_Disney_envelope_ca._1921.jpg/220px-Walt_Disney_envelope_ca._1921.jpg',\n",
       " 'https://upload.wikimedia.org/wikipedia/commons/thumb/0/0d/Trolley_Troubles_poster.jpg/170px-Trolley_Troubles_poster.jpg',\n",
       " 'https://upload.wikimedia.org/wikipedia/en/thumb/4/4e/Steamboat-willie.jpg/170px-Steamboat-willie.jpg',\n",
       " 'https://upload.wikimedia.org/wikipedia/commons/thumb/5/57/Walt_Disney_1935.jpg/170px-Walt_Disney_1935.jpg',\n",
       " 'https://upload.wikimedia.org/wikipedia/commons/thumb/c/cd/Walt_Disney_Snow_white_1937_trailer_screenshot_%2813%29.jpg/220px-Walt_Disney_Snow_white_1937_trailer_screenshot_%2813%29.jpg',\n",
       " 'https://upload.wikimedia.org/wikipedia/commons/thumb/1/15/Disney_drawing_goofy.jpg/170px-Disney_drawing_goofy.jpg',\n",
       " 'https://upload.wikimedia.org/wikipedia/commons/thumb/8/8c/WaltDisneyplansDisneylandDec1954.jpg/220px-WaltDisneyplansDisneylandDec1954.jpg',\n",
       " 'https://upload.wikimedia.org/wikipedia/commons/thumb/f/ff/Walt_disney_portrait_right.jpg/170px-Walt_disney_portrait_right.jpg',\n",
       " 'https://upload.wikimedia.org/wikipedia/commons/thumb/1/1a/Walt_Disney_Grave.JPG/170px-Walt_Disney_Grave.JPG',\n",
       " 'https://upload.wikimedia.org/wikipedia/commons/thumb/2/2d/Roy_O._Disney_with_Company_at_Press_Conference.jpg/170px-Roy_O._Disney_with_Company_at_Press_Conference.jpg',\n",
       " 'https://upload.wikimedia.org/wikipedia/commons/thumb/1/13/DisneySchiphol1951.jpg/220px-DisneySchiphol1951.jpg',\n",
       " 'https://upload.wikimedia.org/wikipedia/commons/thumb/6/6c/Disney1968.jpg/170px-Disney1968.jpg',\n",
       " 'https://upload.wikimedia.org/wikipedia/commons/thumb/b/b0/Disney_Oscar_1953_%28cropped%29.jpg/170px-Disney_Oscar_1953_%28cropped%29.jpg',\n",
       " 'https://upload.wikimedia.org/wikipedia/en/thumb/4/4a/Commons-logo.svg/30px-Commons-logo.svg.png',\n",
       " 'https://upload.wikimedia.org/wikipedia/commons/thumb/4/4c/Wikisource-logo.svg/38px-Wikisource-logo.svg.png',\n",
       " 'https://upload.wikimedia.org/wikipedia/commons/thumb/f/fa/Wikiquote-logo.svg/34px-Wikiquote-logo.svg.png',\n",
       " 'https://upload.wikimedia.org/wikipedia/en/thumb/8/8a/OOjs_UI_icon_edit-ltr-progressive.svg/10px-OOjs_UI_icon_edit-ltr-progressive.svg.png',\n",
       " 'https://upload.wikimedia.org/wikipedia/en/thumb/8/8a/OOjs_UI_icon_edit-ltr-progressive.svg/10px-OOjs_UI_icon_edit-ltr-progressive.svg.png',\n",
       " 'https://upload.wikimedia.org/wikipedia/commons/thumb/e/e3/Disneyland_Resort_logo.svg/135px-Disneyland_Resort_logo.svg.png',\n",
       " 'https://upload.wikimedia.org/wikipedia/commons/thumb/d/da/Animation_disc.svg/20px-Animation_disc.svg.png',\n",
       " 'https://upload.wikimedia.org/wikipedia/en/thumb/6/69/P_vip.svg/19px-P_vip.svg.png',\n",
       " 'https://upload.wikimedia.org/wikipedia/commons/thumb/1/1a/Magic_Kingdom_castle.jpg/15px-Magic_Kingdom_castle.jpg',\n",
       " 'https://upload.wikimedia.org/wikipedia/en/thumb/e/e7/Video-x-generic.svg/19px-Video-x-generic.svg.png',\n",
       " 'https://upload.wikimedia.org/wikipedia/commons/thumb/a/a3/Flag_of_Los_Angeles_County%2C_California.svg/21px-Flag_of_Los_Angeles_County%2C_California.svg.png',\n",
       " 'https://upload.wikimedia.org/wikipedia/commons/thumb/8/8c/Blank_television_set.svg/21px-Blank_television_set.svg.png',\n",
       " 'https://upload.wikimedia.org/wikipedia/en/thumb/a/a4/Flag_of_the_United_States.svg/21px-Flag_of_the_United_States.svg.png',\n",
       " 'https://upload.wikimedia.org/wikipedia/en/thumb/4/4a/Commons-logo.svg/14px-Commons-logo.svg.png',\n",
       " 'https://upload.wikimedia.org/wikipedia/commons/thumb/f/fa/Wikiquote-logo.svg/16px-Wikiquote-logo.svg.png',\n",
       " 'https://upload.wikimedia.org/wikipedia/commons/thumb/4/4c/Wikisource-logo.svg/18px-Wikisource-logo.svg.png',\n",
       " 'https://upload.wikimedia.org/wikipedia/commons/thumb/f/ff/Wikidata-logo.svg/21px-Wikidata-logo.svg.png',\n",
       " 'https://upload.wikimedia.org/wikipedia/en/thumb/8/8a/OOjs_UI_icon_edit-ltr-progressive.svg/10px-OOjs_UI_icon_edit-ltr-progressive.svg.png',\n",
       " 'https://en.wikipedia.org/static/images/footer/wikimedia-button.png',\n",
       " 'https://en.wikipedia.org/static/images/footer/poweredby_mediawiki_88x31.png']"
      ]
     },
     "execution_count": 12,
     "metadata": {},
     "output_type": "execute_result"
    }
   ],
   "source": [
    "elementos = driver.find_elements(By.TAG_NAME, 'img')\n",
    "lst =[]\n",
    "for i in elementos:\n",
    "    lst.append(i.get_attribute('src'))\n",
    "\n",
    "lst"
   ]
  },
  {
   "cell_type": "markdown",
   "metadata": {},
   "source": [
    "#### Retrieve an arbitary Wikipedia page of \"Python\" and create a list of links on that page"
   ]
  },
  {
   "cell_type": "code",
   "execution_count": 13,
   "metadata": {},
   "outputs": [],
   "source": [
    "# This is the url you will scrape in this exercise\n",
    "url ='https://en.wikipedia.org/wiki/Python' \n",
    "driver.get(url)"
   ]
  },
  {
   "cell_type": "code",
   "execution_count": 14,
   "metadata": {},
   "outputs": [
    {
     "data": {
      "text/plain": [
       "[<selenium.webdriver.remote.webelement.WebElement (session=\"92beefacd1d0d7bd8dd9ce85cb703982\", element=\"ae3ceaaf-5d56-47b7-8e5e-9106b5735d40\")>,\n",
       " <selenium.webdriver.remote.webelement.WebElement (session=\"92beefacd1d0d7bd8dd9ce85cb703982\", element=\"bc419f15-633d-4674-8b60-305ec437d02b\")>,\n",
       " <selenium.webdriver.remote.webelement.WebElement (session=\"92beefacd1d0d7bd8dd9ce85cb703982\", element=\"4c2c98dc-be44-4df5-b0b4-5db140e2ce93\")>,\n",
       " <selenium.webdriver.remote.webelement.WebElement (session=\"92beefacd1d0d7bd8dd9ce85cb703982\", element=\"21fedba2-8284-4d3d-9140-680c2424f1a9\")>,\n",
       " <selenium.webdriver.remote.webelement.WebElement (session=\"92beefacd1d0d7bd8dd9ce85cb703982\", element=\"10ba948c-ae3d-4684-8bec-0bf186187416\")>,\n",
       " <selenium.webdriver.remote.webelement.WebElement (session=\"92beefacd1d0d7bd8dd9ce85cb703982\", element=\"f580d4c9-52f2-4417-9278-225fb54f0212\")>,\n",
       " <selenium.webdriver.remote.webelement.WebElement (session=\"92beefacd1d0d7bd8dd9ce85cb703982\", element=\"842bf164-bfbc-4754-877c-af6220025249\")>,\n",
       " <selenium.webdriver.remote.webelement.WebElement (session=\"92beefacd1d0d7bd8dd9ce85cb703982\", element=\"d2342490-1140-4b8f-914c-c0b08810dec4\")>,\n",
       " <selenium.webdriver.remote.webelement.WebElement (session=\"92beefacd1d0d7bd8dd9ce85cb703982\", element=\"eb00eeb1-ff1a-4edd-bbe3-9bfdbf80e978\")>,\n",
       " <selenium.webdriver.remote.webelement.WebElement (session=\"92beefacd1d0d7bd8dd9ce85cb703982\", element=\"33db4673-3410-4542-a4d1-83e82d06fd7e\")>,\n",
       " <selenium.webdriver.remote.webelement.WebElement (session=\"92beefacd1d0d7bd8dd9ce85cb703982\", element=\"7a750109-23bf-4938-9f91-7ff156a50c02\")>,\n",
       " <selenium.webdriver.remote.webelement.WebElement (session=\"92beefacd1d0d7bd8dd9ce85cb703982\", element=\"553528de-f178-468b-87e7-c0334e7ec651\")>,\n",
       " <selenium.webdriver.remote.webelement.WebElement (session=\"92beefacd1d0d7bd8dd9ce85cb703982\", element=\"5b62ed46-f553-4084-bd33-4ba72653ee0f\")>,\n",
       " <selenium.webdriver.remote.webelement.WebElement (session=\"92beefacd1d0d7bd8dd9ce85cb703982\", element=\"66e92bce-2a70-473a-b81d-251edcec288e\")>,\n",
       " <selenium.webdriver.remote.webelement.WebElement (session=\"92beefacd1d0d7bd8dd9ce85cb703982\", element=\"096ce473-e9d6-4dec-926f-21828207ea88\")>,\n",
       " <selenium.webdriver.remote.webelement.WebElement (session=\"92beefacd1d0d7bd8dd9ce85cb703982\", element=\"03f867d0-58a5-4b6a-922f-fb65a63b5710\")>,\n",
       " <selenium.webdriver.remote.webelement.WebElement (session=\"92beefacd1d0d7bd8dd9ce85cb703982\", element=\"3e3e2268-dfd4-4f51-82e5-d5fba198470b\")>,\n",
       " <selenium.webdriver.remote.webelement.WebElement (session=\"92beefacd1d0d7bd8dd9ce85cb703982\", element=\"29064755-8e88-4260-ab98-afe58a02c4db\")>,\n",
       " <selenium.webdriver.remote.webelement.WebElement (session=\"92beefacd1d0d7bd8dd9ce85cb703982\", element=\"05b6a30f-11ae-4d1d-ab79-48f5bb32bfee\")>,\n",
       " <selenium.webdriver.remote.webelement.WebElement (session=\"92beefacd1d0d7bd8dd9ce85cb703982\", element=\"3f4ea74b-c754-41b9-9ac5-0d56659a587b\")>,\n",
       " <selenium.webdriver.remote.webelement.WebElement (session=\"92beefacd1d0d7bd8dd9ce85cb703982\", element=\"70f7320e-c6d7-4978-a5f0-a0798cce35bf\")>,\n",
       " <selenium.webdriver.remote.webelement.WebElement (session=\"92beefacd1d0d7bd8dd9ce85cb703982\", element=\"ff285cb6-373b-4634-9ce0-ca2bd0f9744c\")>,\n",
       " <selenium.webdriver.remote.webelement.WebElement (session=\"92beefacd1d0d7bd8dd9ce85cb703982\", element=\"c0dbb16e-d538-4fdc-a994-b51c3bcca87c\")>,\n",
       " <selenium.webdriver.remote.webelement.WebElement (session=\"92beefacd1d0d7bd8dd9ce85cb703982\", element=\"61f0d230-5a8f-4eb3-8f56-ffc56662e142\")>,\n",
       " <selenium.webdriver.remote.webelement.WebElement (session=\"92beefacd1d0d7bd8dd9ce85cb703982\", element=\"bbec1423-ae99-4344-a734-934e67edbd0c\")>,\n",
       " <selenium.webdriver.remote.webelement.WebElement (session=\"92beefacd1d0d7bd8dd9ce85cb703982\", element=\"7fda150b-08c2-4c21-a8d6-634ec36851f0\")>,\n",
       " <selenium.webdriver.remote.webelement.WebElement (session=\"92beefacd1d0d7bd8dd9ce85cb703982\", element=\"7df0e011-197e-40a6-bfb7-8bc6419d292d\")>,\n",
       " <selenium.webdriver.remote.webelement.WebElement (session=\"92beefacd1d0d7bd8dd9ce85cb703982\", element=\"1de40246-64f1-47ff-9c10-e9fe95ece195\")>,\n",
       " <selenium.webdriver.remote.webelement.WebElement (session=\"92beefacd1d0d7bd8dd9ce85cb703982\", element=\"c06227e5-2897-47a1-8c54-6618f9cfdf00\")>,\n",
       " <selenium.webdriver.remote.webelement.WebElement (session=\"92beefacd1d0d7bd8dd9ce85cb703982\", element=\"5c76bef0-a7ed-40a2-abc8-32690000df6f\")>,\n",
       " <selenium.webdriver.remote.webelement.WebElement (session=\"92beefacd1d0d7bd8dd9ce85cb703982\", element=\"00ef7525-f296-486e-b87d-52e523d47239\")>,\n",
       " <selenium.webdriver.remote.webelement.WebElement (session=\"92beefacd1d0d7bd8dd9ce85cb703982\", element=\"7fdcc976-330b-481e-a1a2-88935b566591\")>,\n",
       " <selenium.webdriver.remote.webelement.WebElement (session=\"92beefacd1d0d7bd8dd9ce85cb703982\", element=\"028168e7-ca71-43c1-926d-5410e71d0c7e\")>,\n",
       " <selenium.webdriver.remote.webelement.WebElement (session=\"92beefacd1d0d7bd8dd9ce85cb703982\", element=\"4fac9ae3-813d-47fc-82c2-576573c9f31e\")>,\n",
       " <selenium.webdriver.remote.webelement.WebElement (session=\"92beefacd1d0d7bd8dd9ce85cb703982\", element=\"9bc131c7-9eff-4aad-a58b-69d2805eab2f\")>,\n",
       " <selenium.webdriver.remote.webelement.WebElement (session=\"92beefacd1d0d7bd8dd9ce85cb703982\", element=\"ee177a8a-4a20-41ef-b558-1b45b89f74b5\")>,\n",
       " <selenium.webdriver.remote.webelement.WebElement (session=\"92beefacd1d0d7bd8dd9ce85cb703982\", element=\"855bca13-3e7e-4af8-996a-206808f02687\")>,\n",
       " <selenium.webdriver.remote.webelement.WebElement (session=\"92beefacd1d0d7bd8dd9ce85cb703982\", element=\"6b1ac5e4-21ca-4de9-be5c-ec3e16d3833d\")>,\n",
       " <selenium.webdriver.remote.webelement.WebElement (session=\"92beefacd1d0d7bd8dd9ce85cb703982\", element=\"0ab3c354-37ee-4f78-8ce9-5841864f7748\")>,\n",
       " <selenium.webdriver.remote.webelement.WebElement (session=\"92beefacd1d0d7bd8dd9ce85cb703982\", element=\"66a2df86-c915-4e84-a266-9f9a1ad15811\")>,\n",
       " <selenium.webdriver.remote.webelement.WebElement (session=\"92beefacd1d0d7bd8dd9ce85cb703982\", element=\"2751d7f9-fee9-4ec6-869c-8da95da10d5e\")>,\n",
       " <selenium.webdriver.remote.webelement.WebElement (session=\"92beefacd1d0d7bd8dd9ce85cb703982\", element=\"3ce119ed-cc16-4e40-9eab-b576a588aa97\")>,\n",
       " <selenium.webdriver.remote.webelement.WebElement (session=\"92beefacd1d0d7bd8dd9ce85cb703982\", element=\"d239f1b0-abc9-4675-97df-5cb82c733cfd\")>,\n",
       " <selenium.webdriver.remote.webelement.WebElement (session=\"92beefacd1d0d7bd8dd9ce85cb703982\", element=\"5cf7739f-f5fb-4a4c-98a3-268db788c3fa\")>,\n",
       " <selenium.webdriver.remote.webelement.WebElement (session=\"92beefacd1d0d7bd8dd9ce85cb703982\", element=\"8f4379ed-77a3-4d0f-8a35-98dd90a167a2\")>,\n",
       " <selenium.webdriver.remote.webelement.WebElement (session=\"92beefacd1d0d7bd8dd9ce85cb703982\", element=\"df4679f3-b4e3-4a6f-bf18-ae198c8cf778\")>,\n",
       " <selenium.webdriver.remote.webelement.WebElement (session=\"92beefacd1d0d7bd8dd9ce85cb703982\", element=\"af1c14ac-034d-469b-bb03-f6b873305ec5\")>,\n",
       " <selenium.webdriver.remote.webelement.WebElement (session=\"92beefacd1d0d7bd8dd9ce85cb703982\", element=\"eb9f7621-bd23-48a9-98db-6beeece82261\")>,\n",
       " <selenium.webdriver.remote.webelement.WebElement (session=\"92beefacd1d0d7bd8dd9ce85cb703982\", element=\"7b32b212-b36d-4b3d-9c97-9c946fd3763c\")>,\n",
       " <selenium.webdriver.remote.webelement.WebElement (session=\"92beefacd1d0d7bd8dd9ce85cb703982\", element=\"71451560-808c-4b4c-8d11-2ae6ba483dce\")>,\n",
       " <selenium.webdriver.remote.webelement.WebElement (session=\"92beefacd1d0d7bd8dd9ce85cb703982\", element=\"dce35de3-c9f0-43e1-b5d8-a7cc36e3d36c\")>,\n",
       " <selenium.webdriver.remote.webelement.WebElement (session=\"92beefacd1d0d7bd8dd9ce85cb703982\", element=\"0ac37acd-b7b9-42dc-91b8-31f98bd57963\")>,\n",
       " <selenium.webdriver.remote.webelement.WebElement (session=\"92beefacd1d0d7bd8dd9ce85cb703982\", element=\"154434f5-07f9-495a-a443-106d35942cde\")>,\n",
       " <selenium.webdriver.remote.webelement.WebElement (session=\"92beefacd1d0d7bd8dd9ce85cb703982\", element=\"98da58b5-ee92-4a78-8810-8c4d9499b650\")>,\n",
       " <selenium.webdriver.remote.webelement.WebElement (session=\"92beefacd1d0d7bd8dd9ce85cb703982\", element=\"6c3e82e3-647e-46bf-97b3-84a923fb0fb2\")>,\n",
       " <selenium.webdriver.remote.webelement.WebElement (session=\"92beefacd1d0d7bd8dd9ce85cb703982\", element=\"1102b99a-9aac-40ea-9e10-49820a72250e\")>,\n",
       " <selenium.webdriver.remote.webelement.WebElement (session=\"92beefacd1d0d7bd8dd9ce85cb703982\", element=\"01df1049-4d39-4ed1-bf59-e2eab3539512\")>,\n",
       " <selenium.webdriver.remote.webelement.WebElement (session=\"92beefacd1d0d7bd8dd9ce85cb703982\", element=\"1c0ccff3-e42d-4092-90ba-3da417d6aea6\")>,\n",
       " <selenium.webdriver.remote.webelement.WebElement (session=\"92beefacd1d0d7bd8dd9ce85cb703982\", element=\"d24073ef-782b-4e4b-9382-c1ed9e13808c\")>,\n",
       " <selenium.webdriver.remote.webelement.WebElement (session=\"92beefacd1d0d7bd8dd9ce85cb703982\", element=\"b9936ed4-8444-44b5-ac2c-586c5e82ed09\")>,\n",
       " <selenium.webdriver.remote.webelement.WebElement (session=\"92beefacd1d0d7bd8dd9ce85cb703982\", element=\"7acebe03-b109-49d6-83b3-5b6338680862\")>,\n",
       " <selenium.webdriver.remote.webelement.WebElement (session=\"92beefacd1d0d7bd8dd9ce85cb703982\", element=\"b4947fc8-11f6-4c2b-bcae-af4b353e9889\")>,\n",
       " <selenium.webdriver.remote.webelement.WebElement (session=\"92beefacd1d0d7bd8dd9ce85cb703982\", element=\"d098eb40-7e11-4d94-be8e-21b35c0d8b1b\")>,\n",
       " <selenium.webdriver.remote.webelement.WebElement (session=\"92beefacd1d0d7bd8dd9ce85cb703982\", element=\"c19c94c1-613a-4db4-a7b2-4d58af1909c3\")>,\n",
       " <selenium.webdriver.remote.webelement.WebElement (session=\"92beefacd1d0d7bd8dd9ce85cb703982\", element=\"1afadb55-24d6-4820-bfac-9953f0b7db28\")>,\n",
       " <selenium.webdriver.remote.webelement.WebElement (session=\"92beefacd1d0d7bd8dd9ce85cb703982\", element=\"de069357-61bf-47eb-bb3b-90dc34ce0f50\")>,\n",
       " <selenium.webdriver.remote.webelement.WebElement (session=\"92beefacd1d0d7bd8dd9ce85cb703982\", element=\"4eead0a5-b9aa-476a-9a7e-b4449b3d5fc4\")>,\n",
       " <selenium.webdriver.remote.webelement.WebElement (session=\"92beefacd1d0d7bd8dd9ce85cb703982\", element=\"73599382-d57a-42d5-a81f-6d82b1b78161\")>,\n",
       " <selenium.webdriver.remote.webelement.WebElement (session=\"92beefacd1d0d7bd8dd9ce85cb703982\", element=\"6f1edd34-1640-4f96-b3b7-62d53923fae8\")>,\n",
       " <selenium.webdriver.remote.webelement.WebElement (session=\"92beefacd1d0d7bd8dd9ce85cb703982\", element=\"9b4a6757-8ee1-4609-9728-b66ace6a0d14\")>,\n",
       " <selenium.webdriver.remote.webelement.WebElement (session=\"92beefacd1d0d7bd8dd9ce85cb703982\", element=\"c4432235-2451-4376-9adf-b564fca9d4cc\")>,\n",
       " <selenium.webdriver.remote.webelement.WebElement (session=\"92beefacd1d0d7bd8dd9ce85cb703982\", element=\"8a1e1a6a-d0a0-4837-823f-3ffb0f73d5e4\")>,\n",
       " <selenium.webdriver.remote.webelement.WebElement (session=\"92beefacd1d0d7bd8dd9ce85cb703982\", element=\"e91efc56-773e-4ee6-b083-1b1af7eb241a\")>,\n",
       " <selenium.webdriver.remote.webelement.WebElement (session=\"92beefacd1d0d7bd8dd9ce85cb703982\", element=\"c61ad1e4-f898-4ad1-9a0e-b882fb328b79\")>,\n",
       " <selenium.webdriver.remote.webelement.WebElement (session=\"92beefacd1d0d7bd8dd9ce85cb703982\", element=\"3bdd2ecb-c03d-4aa8-a5b7-bb4d83a9d2a0\")>,\n",
       " <selenium.webdriver.remote.webelement.WebElement (session=\"92beefacd1d0d7bd8dd9ce85cb703982\", element=\"a5398acc-9378-4be2-84fa-d689e1b63d13\")>,\n",
       " <selenium.webdriver.remote.webelement.WebElement (session=\"92beefacd1d0d7bd8dd9ce85cb703982\", element=\"b71fbedd-1652-41dd-a9bc-622c05e956bd\")>,\n",
       " <selenium.webdriver.remote.webelement.WebElement (session=\"92beefacd1d0d7bd8dd9ce85cb703982\", element=\"8e6bd960-4774-4590-9398-680c1c08f7f7\")>,\n",
       " <selenium.webdriver.remote.webelement.WebElement (session=\"92beefacd1d0d7bd8dd9ce85cb703982\", element=\"57efc682-a02d-40a7-9b9e-ef303593d9a4\")>,\n",
       " <selenium.webdriver.remote.webelement.WebElement (session=\"92beefacd1d0d7bd8dd9ce85cb703982\", element=\"fa72d661-9ed8-4146-b104-ae8cca826c39\")>,\n",
       " <selenium.webdriver.remote.webelement.WebElement (session=\"92beefacd1d0d7bd8dd9ce85cb703982\", element=\"fd7272f2-edda-4089-a3e4-d1f234660264\")>,\n",
       " <selenium.webdriver.remote.webelement.WebElement (session=\"92beefacd1d0d7bd8dd9ce85cb703982\", element=\"dcc6aa3b-79b6-4199-9608-2b803e6f5ce2\")>,\n",
       " <selenium.webdriver.remote.webelement.WebElement (session=\"92beefacd1d0d7bd8dd9ce85cb703982\", element=\"22d84a45-42d3-41eb-abcf-ef8897ba35e3\")>,\n",
       " <selenium.webdriver.remote.webelement.WebElement (session=\"92beefacd1d0d7bd8dd9ce85cb703982\", element=\"3e4a47b7-2f65-4a0f-a804-e1ca65db6125\")>,\n",
       " <selenium.webdriver.remote.webelement.WebElement (session=\"92beefacd1d0d7bd8dd9ce85cb703982\", element=\"2fc7a5c9-331e-4e93-bce5-1cbad6b7900d\")>,\n",
       " <selenium.webdriver.remote.webelement.WebElement (session=\"92beefacd1d0d7bd8dd9ce85cb703982\", element=\"34b0fa0d-9b55-4375-886b-11d80ac16b4c\")>,\n",
       " <selenium.webdriver.remote.webelement.WebElement (session=\"92beefacd1d0d7bd8dd9ce85cb703982\", element=\"4122f789-6111-43f8-8313-d759f4361410\")>,\n",
       " <selenium.webdriver.remote.webelement.WebElement (session=\"92beefacd1d0d7bd8dd9ce85cb703982\", element=\"fe541ca7-4627-4d72-904f-21069ad3b4a4\")>,\n",
       " <selenium.webdriver.remote.webelement.WebElement (session=\"92beefacd1d0d7bd8dd9ce85cb703982\", element=\"d762f247-4a2d-4d30-bf37-034722161e7d\")>,\n",
       " <selenium.webdriver.remote.webelement.WebElement (session=\"92beefacd1d0d7bd8dd9ce85cb703982\", element=\"dc419b99-efc2-480c-ba88-b30b9dfedb29\")>,\n",
       " <selenium.webdriver.remote.webelement.WebElement (session=\"92beefacd1d0d7bd8dd9ce85cb703982\", element=\"c3ab6148-4d1c-4e4b-aa0f-81c10ae58fce\")>,\n",
       " <selenium.webdriver.remote.webelement.WebElement (session=\"92beefacd1d0d7bd8dd9ce85cb703982\", element=\"9d6fc33f-6316-43e7-b165-9bccb7a45d9c\")>,\n",
       " <selenium.webdriver.remote.webelement.WebElement (session=\"92beefacd1d0d7bd8dd9ce85cb703982\", element=\"eeccba8a-ea43-4ba4-a529-ffa8d2980b30\")>,\n",
       " <selenium.webdriver.remote.webelement.WebElement (session=\"92beefacd1d0d7bd8dd9ce85cb703982\", element=\"54910938-29d1-42df-9eab-e9791c6b01f8\")>,\n",
       " <selenium.webdriver.remote.webelement.WebElement (session=\"92beefacd1d0d7bd8dd9ce85cb703982\", element=\"b97d6379-3fbc-47cf-9ae8-5b789afdb483\")>,\n",
       " <selenium.webdriver.remote.webelement.WebElement (session=\"92beefacd1d0d7bd8dd9ce85cb703982\", element=\"2b64beff-7f5a-432d-b1f3-e1c7377ac409\")>,\n",
       " <selenium.webdriver.remote.webelement.WebElement (session=\"92beefacd1d0d7bd8dd9ce85cb703982\", element=\"efab5842-ae9d-42a9-b869-926ae2266d69\")>,\n",
       " <selenium.webdriver.remote.webelement.WebElement (session=\"92beefacd1d0d7bd8dd9ce85cb703982\", element=\"3c5f5a10-1c66-400c-bf8f-968b4c97199d\")>,\n",
       " <selenium.webdriver.remote.webelement.WebElement (session=\"92beefacd1d0d7bd8dd9ce85cb703982\", element=\"4d0faf76-0183-4349-9c29-5de524fcb76f\")>,\n",
       " <selenium.webdriver.remote.webelement.WebElement (session=\"92beefacd1d0d7bd8dd9ce85cb703982\", element=\"a6fd35a5-5f87-4094-967a-cb2114b7bedc\")>,\n",
       " <selenium.webdriver.remote.webelement.WebElement (session=\"92beefacd1d0d7bd8dd9ce85cb703982\", element=\"96106f2f-573f-4539-b7ef-2cfd3727cb43\")>,\n",
       " <selenium.webdriver.remote.webelement.WebElement (session=\"92beefacd1d0d7bd8dd9ce85cb703982\", element=\"bbe10024-588a-452d-aece-556df9f5126e\")>,\n",
       " <selenium.webdriver.remote.webelement.WebElement (session=\"92beefacd1d0d7bd8dd9ce85cb703982\", element=\"a9b22fc5-84bb-4b74-956a-9f8e767390a9\")>,\n",
       " <selenium.webdriver.remote.webelement.WebElement (session=\"92beefacd1d0d7bd8dd9ce85cb703982\", element=\"132a2e44-3731-468a-87ba-ce632eb67834\")>,\n",
       " <selenium.webdriver.remote.webelement.WebElement (session=\"92beefacd1d0d7bd8dd9ce85cb703982\", element=\"af3fce26-447d-4ca2-b971-b24365163ffa\")>,\n",
       " <selenium.webdriver.remote.webelement.WebElement (session=\"92beefacd1d0d7bd8dd9ce85cb703982\", element=\"de267385-cfc4-40ce-a807-2f4ae0bcb107\")>,\n",
       " <selenium.webdriver.remote.webelement.WebElement (session=\"92beefacd1d0d7bd8dd9ce85cb703982\", element=\"d242e310-770a-4c58-a157-c12f6fbf4f31\")>,\n",
       " <selenium.webdriver.remote.webelement.WebElement (session=\"92beefacd1d0d7bd8dd9ce85cb703982\", element=\"f23ae90b-f6c1-46e3-9c6b-2ed4280d5acf\")>,\n",
       " <selenium.webdriver.remote.webelement.WebElement (session=\"92beefacd1d0d7bd8dd9ce85cb703982\", element=\"20c6bcef-6a4b-4289-9e62-0f7452a81b17\")>,\n",
       " <selenium.webdriver.remote.webelement.WebElement (session=\"92beefacd1d0d7bd8dd9ce85cb703982\", element=\"093a887e-5fe3-4d16-a231-beab03c8606e\")>,\n",
       " <selenium.webdriver.remote.webelement.WebElement (session=\"92beefacd1d0d7bd8dd9ce85cb703982\", element=\"411b7ee6-ba27-47ed-95aa-2757f269403b\")>,\n",
       " <selenium.webdriver.remote.webelement.WebElement (session=\"92beefacd1d0d7bd8dd9ce85cb703982\", element=\"1cbde57e-7c78-48a8-b563-936fb4c01c57\")>,\n",
       " <selenium.webdriver.remote.webelement.WebElement (session=\"92beefacd1d0d7bd8dd9ce85cb703982\", element=\"be9de9dc-5a61-4fef-a8df-58e8e09cbbfe\")>,\n",
       " <selenium.webdriver.remote.webelement.WebElement (session=\"92beefacd1d0d7bd8dd9ce85cb703982\", element=\"f5ccad96-3d59-4dbb-bedd-7c4d08f82bb1\")>,\n",
       " <selenium.webdriver.remote.webelement.WebElement (session=\"92beefacd1d0d7bd8dd9ce85cb703982\", element=\"3e0b136e-3134-4c37-9acd-5f4133dde766\")>,\n",
       " <selenium.webdriver.remote.webelement.WebElement (session=\"92beefacd1d0d7bd8dd9ce85cb703982\", element=\"3b66e0f7-ed54-4c40-90ef-580409f8f514\")>,\n",
       " <selenium.webdriver.remote.webelement.WebElement (session=\"92beefacd1d0d7bd8dd9ce85cb703982\", element=\"383a27fa-95b7-4d68-a993-9c9b4d57ccb0\")>,\n",
       " <selenium.webdriver.remote.webelement.WebElement (session=\"92beefacd1d0d7bd8dd9ce85cb703982\", element=\"420c7520-2618-48a3-b550-acdc82586f1d\")>,\n",
       " <selenium.webdriver.remote.webelement.WebElement (session=\"92beefacd1d0d7bd8dd9ce85cb703982\", element=\"fbab9d71-a442-4136-b46e-76c6db3a7e16\")>,\n",
       " <selenium.webdriver.remote.webelement.WebElement (session=\"92beefacd1d0d7bd8dd9ce85cb703982\", element=\"dff20e8e-907e-4e6a-a3af-626fda4edcfa\")>,\n",
       " <selenium.webdriver.remote.webelement.WebElement (session=\"92beefacd1d0d7bd8dd9ce85cb703982\", element=\"3892dc78-0964-4efa-88e2-2475ae57e1ab\")>,\n",
       " <selenium.webdriver.remote.webelement.WebElement (session=\"92beefacd1d0d7bd8dd9ce85cb703982\", element=\"ad6b40f2-e0aa-4229-a7e2-746525b6d51c\")>,\n",
       " <selenium.webdriver.remote.webelement.WebElement (session=\"92beefacd1d0d7bd8dd9ce85cb703982\", element=\"840e685f-3b6f-436f-baca-4bbf5d81f6a6\")>,\n",
       " <selenium.webdriver.remote.webelement.WebElement (session=\"92beefacd1d0d7bd8dd9ce85cb703982\", element=\"e1f5076e-f30a-4bdd-9d84-73e732fd6c98\")>,\n",
       " <selenium.webdriver.remote.webelement.WebElement (session=\"92beefacd1d0d7bd8dd9ce85cb703982\", element=\"11b15492-1d89-48e1-98b9-c04c597b97cb\")>,\n",
       " <selenium.webdriver.remote.webelement.WebElement (session=\"92beefacd1d0d7bd8dd9ce85cb703982\", element=\"79a88142-0784-4f4c-b555-c9f88d53a4f9\")>,\n",
       " <selenium.webdriver.remote.webelement.WebElement (session=\"92beefacd1d0d7bd8dd9ce85cb703982\", element=\"34a6187e-7a36-4f75-8819-dbdc128a3f5a\")>,\n",
       " <selenium.webdriver.remote.webelement.WebElement (session=\"92beefacd1d0d7bd8dd9ce85cb703982\", element=\"dbbc8eae-3a4c-4b3c-ba3e-6dec343bd942\")>,\n",
       " <selenium.webdriver.remote.webelement.WebElement (session=\"92beefacd1d0d7bd8dd9ce85cb703982\", element=\"261112cc-a8ee-4323-96ff-22931ec27a3a\")>,\n",
       " <selenium.webdriver.remote.webelement.WebElement (session=\"92beefacd1d0d7bd8dd9ce85cb703982\", element=\"2668c2a9-ed8d-4d11-8803-44d870e42671\")>,\n",
       " <selenium.webdriver.remote.webelement.WebElement (session=\"92beefacd1d0d7bd8dd9ce85cb703982\", element=\"51addbbf-d5ce-4185-9331-39602f2acfdf\")>,\n",
       " <selenium.webdriver.remote.webelement.WebElement (session=\"92beefacd1d0d7bd8dd9ce85cb703982\", element=\"6288c3db-01dc-43f8-a7bc-d776d1fcc611\")>,\n",
       " <selenium.webdriver.remote.webelement.WebElement (session=\"92beefacd1d0d7bd8dd9ce85cb703982\", element=\"8b6cb466-8cd6-4100-8b67-7f45e9b922c4\")>,\n",
       " <selenium.webdriver.remote.webelement.WebElement (session=\"92beefacd1d0d7bd8dd9ce85cb703982\", element=\"39ef77b6-7817-4e2c-b48a-86e5058f7418\")>,\n",
       " <selenium.webdriver.remote.webelement.WebElement (session=\"92beefacd1d0d7bd8dd9ce85cb703982\", element=\"1bf63a37-e5da-4b94-a065-7e7021242b4e\")>,\n",
       " <selenium.webdriver.remote.webelement.WebElement (session=\"92beefacd1d0d7bd8dd9ce85cb703982\", element=\"0d34d724-e08e-42b2-af3c-20e61396e655\")>,\n",
       " <selenium.webdriver.remote.webelement.WebElement (session=\"92beefacd1d0d7bd8dd9ce85cb703982\", element=\"90bdfa68-2f6e-4508-a29b-2a62b08b6b23\")>,\n",
       " <selenium.webdriver.remote.webelement.WebElement (session=\"92beefacd1d0d7bd8dd9ce85cb703982\", element=\"cc2cbd2c-ea3a-4297-b3d9-26beb96f98c4\")>,\n",
       " <selenium.webdriver.remote.webelement.WebElement (session=\"92beefacd1d0d7bd8dd9ce85cb703982\", element=\"3de1f799-9fe9-4f61-81c8-fbe090525d47\")>,\n",
       " <selenium.webdriver.remote.webelement.WebElement (session=\"92beefacd1d0d7bd8dd9ce85cb703982\", element=\"4f1bf6d6-215b-47c8-8c29-3b4d8c472683\")>,\n",
       " <selenium.webdriver.remote.webelement.WebElement (session=\"92beefacd1d0d7bd8dd9ce85cb703982\", element=\"2b310610-d7d5-472d-a568-025efd937166\")>,\n",
       " <selenium.webdriver.remote.webelement.WebElement (session=\"92beefacd1d0d7bd8dd9ce85cb703982\", element=\"1aeb29f4-6b5e-4766-b6d7-9f7a320afff2\")>,\n",
       " <selenium.webdriver.remote.webelement.WebElement (session=\"92beefacd1d0d7bd8dd9ce85cb703982\", element=\"08e9096d-e811-4947-a9e7-40e81323543f\")>,\n",
       " <selenium.webdriver.remote.webelement.WebElement (session=\"92beefacd1d0d7bd8dd9ce85cb703982\", element=\"c6da7570-cec6-41d5-99db-e10fee017cbb\")>,\n",
       " <selenium.webdriver.remote.webelement.WebElement (session=\"92beefacd1d0d7bd8dd9ce85cb703982\", element=\"6fd7babf-21f5-4882-ad2f-0bfd1aa79305\")>,\n",
       " <selenium.webdriver.remote.webelement.WebElement (session=\"92beefacd1d0d7bd8dd9ce85cb703982\", element=\"9de5b9fe-4761-4e45-b2db-61908992de15\")>,\n",
       " <selenium.webdriver.remote.webelement.WebElement (session=\"92beefacd1d0d7bd8dd9ce85cb703982\", element=\"26c4aa1c-b5d8-41e8-9c2f-3c9780589e1c\")>,\n",
       " <selenium.webdriver.remote.webelement.WebElement (session=\"92beefacd1d0d7bd8dd9ce85cb703982\", element=\"bab5271a-594a-42be-b148-2973f47c235c\")>,\n",
       " <selenium.webdriver.remote.webelement.WebElement (session=\"92beefacd1d0d7bd8dd9ce85cb703982\", element=\"a3143cc5-7739-4ac8-8346-f151d1264779\")>,\n",
       " <selenium.webdriver.remote.webelement.WebElement (session=\"92beefacd1d0d7bd8dd9ce85cb703982\", element=\"dc4e6934-48ab-44db-95ac-f8e9d053fbec\")>,\n",
       " <selenium.webdriver.remote.webelement.WebElement (session=\"92beefacd1d0d7bd8dd9ce85cb703982\", element=\"4ef26d24-83c4-486e-9e47-a85c64135675\")>,\n",
       " <selenium.webdriver.remote.webelement.WebElement (session=\"92beefacd1d0d7bd8dd9ce85cb703982\", element=\"486d4ebe-a573-407f-91a1-8289ace47fc9\")>,\n",
       " <selenium.webdriver.remote.webelement.WebElement (session=\"92beefacd1d0d7bd8dd9ce85cb703982\", element=\"4fb30e29-e506-4227-86c7-a98a76d1539e\")>,\n",
       " <selenium.webdriver.remote.webelement.WebElement (session=\"92beefacd1d0d7bd8dd9ce85cb703982\", element=\"f620d06f-e636-4673-ac20-fe9ad1805996\")>,\n",
       " <selenium.webdriver.remote.webelement.WebElement (session=\"92beefacd1d0d7bd8dd9ce85cb703982\", element=\"5cbc72b5-6b48-4165-aa54-b8514745a874\")>,\n",
       " <selenium.webdriver.remote.webelement.WebElement (session=\"92beefacd1d0d7bd8dd9ce85cb703982\", element=\"6cf70361-03d0-47ba-996d-57e9dc72eb67\")>,\n",
       " <selenium.webdriver.remote.webelement.WebElement (session=\"92beefacd1d0d7bd8dd9ce85cb703982\", element=\"269afc74-d6e3-43f2-a2c3-486d7bfef916\")>,\n",
       " <selenium.webdriver.remote.webelement.WebElement (session=\"92beefacd1d0d7bd8dd9ce85cb703982\", element=\"6caa4c70-7c7d-4392-9089-63e7601fe434\")>,\n",
       " <selenium.webdriver.remote.webelement.WebElement (session=\"92beefacd1d0d7bd8dd9ce85cb703982\", element=\"55d5092e-14ee-4e06-a1cc-5a2decdbed50\")>,\n",
       " <selenium.webdriver.remote.webelement.WebElement (session=\"92beefacd1d0d7bd8dd9ce85cb703982\", element=\"b4cd5b68-463b-4fab-a9ba-3d5fbd65b075\")>]"
      ]
     },
     "execution_count": 14,
     "metadata": {},
     "output_type": "execute_result"
    }
   ],
   "source": [
    "driver.find_elements(By.TAG_NAME, 'a')"
   ]
  },
  {
   "cell_type": "code",
   "execution_count": 15,
   "metadata": {},
   "outputs": [
    {
     "data": {
      "text/plain": [
       "['https://en.wikipedia.org/wiki/Python#bodyContent',\n",
       " 'https://en.wikipedia.org/wiki/Main_Page',\n",
       " 'https://en.wikipedia.org/wiki/Special:Search',\n",
       " 'https://en.wikipedia.org/w/index.php?title=Special:CreateAccount&returnto=Python',\n",
       " 'https://en.wikipedia.org/w/index.php?title=Special:CreateAccount&returnto=Python',\n",
       " 'https://en.wikipedia.org/w/index.php?title=Special:UserLogin&returnto=Python',\n",
       " 'https://en.wikipedia.org/wiki/Help:Introduction',\n",
       " 'https://en.wikipedia.org/wiki/Special:MyTalk',\n",
       " 'https://en.wikipedia.org/wiki/Special:MyContributions',\n",
       " 'https://en.wikipedia.org/wiki/Main_Page',\n",
       " 'https://en.wikipedia.org/wiki/Wikipedia:Contents',\n",
       " 'https://en.wikipedia.org/wiki/Portal:Current_events',\n",
       " 'https://en.wikipedia.org/wiki/Special:Random',\n",
       " 'https://en.wikipedia.org/wiki/Wikipedia:About',\n",
       " 'https://en.wikipedia.org/wiki/Wikipedia:Contact_us',\n",
       " 'https://donate.wikimedia.org/wiki/Special:FundraiserRedirector?utm_source=donate&utm_medium=sidebar&utm_campaign=C13_en.wikipedia.org&uselang=en',\n",
       " 'https://en.wikipedia.org/wiki/Help:Contents',\n",
       " 'https://en.wikipedia.org/wiki/Help:Introduction',\n",
       " 'https://en.wikipedia.org/wiki/Wikipedia:Community_portal',\n",
       " 'https://en.wikipedia.org/wiki/Special:RecentChanges',\n",
       " 'https://en.wikipedia.org/wiki/Wikipedia:File_upload_wizard',\n",
       " 'https://en.wikipedia.org/wiki/Special:WhatLinksHere/Python',\n",
       " 'https://en.wikipedia.org/wiki/Special:RecentChangesLinked/Python',\n",
       " 'https://en.wikipedia.org/wiki/Wikipedia:File_Upload_Wizard',\n",
       " 'https://en.wikipedia.org/wiki/Special:SpecialPages',\n",
       " 'https://en.wikipedia.org/w/index.php?title=Python&oldid=1134693155',\n",
       " 'https://en.wikipedia.org/w/index.php?title=Python&action=info',\n",
       " 'https://en.wikipedia.org/w/index.php?title=Special:CiteThisPage&page=Python&id=1134693155&wpFormIdentifier=titleform',\n",
       " 'https://www.wikidata.org/wiki/Special:EntityPage/Q747452',\n",
       " 'https://www.wikidata.org/wiki/Special:EntityPage/Q747452#sitelinks-wikipedia',\n",
       " 'https://en.wikipedia.org/w/index.php?title=Special:DownloadAsPdf&page=Python&action=show-download-screen',\n",
       " 'https://en.wikipedia.org/w/index.php?title=Python&printable=yes',\n",
       " 'https://commons.wikimedia.org/wiki/Category:Python',\n",
       " 'https://en.wikipedia.org/wiki/Python#p-lang-btn',\n",
       " 'https://en.wikipedia.org/wiki/Python#',\n",
       " 'https://en.wikipedia.org/wiki/Python#Snakes',\n",
       " 'https://en.wikipedia.org/wiki/Python#Computing',\n",
       " 'https://en.wikipedia.org/wiki/Python#People',\n",
       " 'https://en.wikipedia.org/wiki/Python#Roller_coasters',\n",
       " 'https://en.wikipedia.org/wiki/Python#Vehicles',\n",
       " 'https://en.wikipedia.org/wiki/Python#Weaponry',\n",
       " 'https://en.wikipedia.org/wiki/Python#Other_uses',\n",
       " 'https://en.wikipedia.org/wiki/Python#See_also',\n",
       " 'https://af.wikipedia.org/wiki/Python',\n",
       " 'https://als.wikipedia.org/wiki/Python',\n",
       " 'https://ar.wikipedia.org/wiki/%D8%A8%D8%A7%D9%8A%D8%AB%D9%88%D9%86_(%D8%AA%D9%88%D8%B6%D9%8A%D8%AD)',\n",
       " 'https://az.wikipedia.org/wiki/Python_(d%C9%99qiql%C9%99%C5%9Fdirm%C9%99)',\n",
       " 'https://bn.wikipedia.org/wiki/%E0%A6%AA%E0%A6%BE%E0%A6%87%E0%A6%A5%E0%A6%A8_(%E0%A6%A6%E0%A7%8D%E0%A6%AC%E0%A7%8D%E0%A6%AF%E0%A6%B0%E0%A7%8D%E0%A6%A5%E0%A6%A4%E0%A6%BE_%E0%A6%A8%E0%A6%BF%E0%A6%B0%E0%A6%B8%E0%A6%A8)',\n",
       " 'https://be.wikipedia.org/wiki/Python',\n",
       " 'https://bg.wikipedia.org/wiki/%D0%9F%D0%B8%D1%82%D0%BE%D0%BD_(%D0%BF%D0%BE%D1%8F%D1%81%D0%BD%D0%B5%D0%BD%D0%B8%D0%B5)',\n",
       " 'https://cs.wikipedia.org/wiki/Python_(rozcestn%C3%ADk)',\n",
       " 'https://da.wikipedia.org/wiki/Python',\n",
       " 'https://de.wikipedia.org/wiki/Python',\n",
       " 'https://eo.wikipedia.org/wiki/Pitono_(apartigilo)',\n",
       " 'https://eu.wikipedia.org/wiki/Python_(argipena)',\n",
       " 'https://fa.wikipedia.org/wiki/%D9%BE%D8%A7%DB%8C%D8%AA%D9%88%D9%86',\n",
       " 'https://fr.wikipedia.org/wiki/Python',\n",
       " 'https://ko.wikipedia.org/wiki/%ED%8C%8C%EC%9D%B4%EC%84%A0',\n",
       " 'https://hr.wikipedia.org/wiki/Python_(razdvojba)',\n",
       " 'https://io.wikipedia.org/wiki/Pitono',\n",
       " 'https://id.wikipedia.org/wiki/Python',\n",
       " 'https://ia.wikipedia.org/wiki/Python_(disambiguation)',\n",
       " 'https://is.wikipedia.org/wiki/Python_(a%C3%B0greining)',\n",
       " 'https://it.wikipedia.org/wiki/Python_(disambigua)',\n",
       " 'https://he.wikipedia.org/wiki/%D7%A4%D7%99%D7%AA%D7%95%D7%9F',\n",
       " 'https://ka.wikipedia.org/wiki/%E1%83%9E%E1%83%98%E1%83%97%E1%83%9D%E1%83%9C%E1%83%98_(%E1%83%9B%E1%83%A0%E1%83%90%E1%83%95%E1%83%90%E1%83%9A%E1%83%9B%E1%83%9C%E1%83%98%E1%83%A8%E1%83%95%E1%83%9C%E1%83%94%E1%83%9A%E1%83%9D%E1%83%95%E1%83%90%E1%83%9C%E1%83%98)',\n",
       " 'https://kg.wikipedia.org/wiki/Mboma_(nyoka)',\n",
       " 'https://la.wikipedia.org/wiki/Python_(discretiva)',\n",
       " 'https://lb.wikipedia.org/wiki/Python',\n",
       " 'https://hu.wikipedia.org/wiki/Python_(egy%C3%A9rtelm%C5%B1s%C3%ADt%C5%91_lap)',\n",
       " 'https://mr.wikipedia.org/wiki/%E0%A4%AA%E0%A4%BE%E0%A4%AF%E0%A4%A5%E0%A5%89%E0%A4%A8_(%E0%A4%86%E0%A4%9C%E0%A5%8D%E0%A4%9E%E0%A4%BE%E0%A4%B5%E0%A4%B2%E0%A5%80_%E0%A4%AD%E0%A4%BE%E0%A4%B7%E0%A4%BE)',\n",
       " 'https://nl.wikipedia.org/wiki/Python',\n",
       " 'https://ja.wikipedia.org/wiki/%E3%83%91%E3%82%A4%E3%82%BD%E3%83%B3',\n",
       " 'https://no.wikipedia.org/wiki/Pyton',\n",
       " 'https://pl.wikipedia.org/wiki/Pyton',\n",
       " 'https://pt.wikipedia.org/wiki/Python_(desambigua%C3%A7%C3%A3o)',\n",
       " 'https://ru.wikipedia.org/wiki/Python_(%D0%B7%D0%BD%D0%B0%D1%87%D0%B5%D0%BD%D0%B8%D1%8F)',\n",
       " 'https://sk.wikipedia.org/wiki/Python',\n",
       " 'https://sr.wikipedia.org/wiki/%D0%9F%D0%B8%D1%82%D0%BE%D0%BD_(%D0%B2%D0%B8%D1%88%D0%B5%D0%B7%D0%BD%D0%B0%D1%87%D0%BD%D0%B0_%D0%BE%D0%B4%D1%80%D0%B5%D0%B4%D0%BD%D0%B8%D1%86%D0%B0)',\n",
       " 'https://sh.wikipedia.org/wiki/Python',\n",
       " 'https://fi.wikipedia.org/wiki/Python',\n",
       " 'https://sv.wikipedia.org/wiki/Pyton',\n",
       " 'https://th.wikipedia.org/wiki/%E0%B9%84%E0%B8%9E%E0%B8%97%E0%B8%AD%E0%B8%99',\n",
       " 'https://tr.wikipedia.org/wiki/Python_(anlam_ayr%C4%B1m%C4%B1)',\n",
       " 'https://uk.wikipedia.org/wiki/%D0%9F%D1%96%D1%84%D0%BE%D0%BD',\n",
       " 'https://ur.wikipedia.org/wiki/%D9%BE%D8%A7%D8%A6%DB%8C%D8%AA%DA%BE%D9%88%D9%86',\n",
       " 'https://vi.wikipedia.org/wiki/Python',\n",
       " 'https://zh.wikipedia.org/wiki/Python_(%E6%B6%88%E6%AD%A7%E4%B9%89)',\n",
       " 'https://en.wikipedia.org/wiki/Python',\n",
       " 'https://en.wikipedia.org/wiki/Talk:Python',\n",
       " 'https://en.wikipedia.org/wiki/Python',\n",
       " 'https://en.wikipedia.org/w/index.php?title=Python&action=edit&editintro=Template:Disambig_editintro',\n",
       " 'https://en.wikipedia.org/w/index.php?title=Python&action=history',\n",
       " 'https://en.wikipedia.org/wiki/Python',\n",
       " 'https://en.wikipedia.org/w/index.php?title=Python&action=edit',\n",
       " 'https://en.wikipedia.org/w/index.php?title=Python&action=history',\n",
       " 'https://en.wiktionary.org/wiki/Python',\n",
       " 'https://en.wiktionary.org/wiki/python',\n",
       " 'https://en.wikipedia.org/w/index.php?title=Python&action=edit&section=1&editintro=Template:Disambig_editintro',\n",
       " 'https://en.wikipedia.org/wiki/Pythonidae',\n",
       " 'https://en.wikipedia.org/wiki/Python_(genus)',\n",
       " 'https://en.wikipedia.org/wiki/Python_(mythology)',\n",
       " 'https://en.wikipedia.org/w/index.php?title=Python&action=edit&section=2&editintro=Template:Disambig_editintro',\n",
       " 'https://en.wikipedia.org/wiki/Python_(programming_language)',\n",
       " 'https://en.wikipedia.org/wiki/CMU_Common_Lisp',\n",
       " 'https://en.wikipedia.org/wiki/PERQ#PERQ_3',\n",
       " 'https://en.wikipedia.org/w/index.php?title=Python&action=edit&section=3&editintro=Template:Disambig_editintro',\n",
       " 'https://en.wikipedia.org/wiki/Python_of_Aenus',\n",
       " 'https://en.wikipedia.org/wiki/Python_(painter)',\n",
       " 'https://en.wikipedia.org/wiki/Python_of_Byzantium',\n",
       " 'https://en.wikipedia.org/wiki/Python_of_Catana',\n",
       " 'https://en.wikipedia.org/wiki/Python_Anghelo',\n",
       " 'https://en.wikipedia.org/w/index.php?title=Python&action=edit&section=4&editintro=Template:Disambig_editintro',\n",
       " 'https://en.wikipedia.org/wiki/Python_(Efteling)',\n",
       " 'https://en.wikipedia.org/wiki/Python_(Busch_Gardens_Tampa_Bay)',\n",
       " 'https://en.wikipedia.org/wiki/Python_(Coney_Island,_Cincinnati,_Ohio)',\n",
       " 'https://en.wikipedia.org/w/index.php?title=Python&action=edit&section=5&editintro=Template:Disambig_editintro',\n",
       " 'https://en.wikipedia.org/wiki/Python_(automobile_maker)',\n",
       " 'https://en.wikipedia.org/wiki/Python_(Ford_prototype)',\n",
       " 'https://en.wikipedia.org/w/index.php?title=Python&action=edit&section=6&editintro=Template:Disambig_editintro',\n",
       " 'https://en.wikipedia.org/wiki/Python_(missile)',\n",
       " 'https://en.wikipedia.org/wiki/Python_(nuclear_primary)',\n",
       " 'https://en.wikipedia.org/wiki/Colt_Python',\n",
       " 'https://en.wikipedia.org/w/index.php?title=Python&action=edit&section=7&editintro=Template:Disambig_editintro',\n",
       " 'https://en.wikipedia.org/wiki/Python_(codename)',\n",
       " 'https://en.wikipedia.org/wiki/Python_(film)',\n",
       " 'https://en.wikipedia.org/wiki/Monty_Python',\n",
       " 'https://en.wikipedia.org/wiki/Python_(Monty)_Pictures',\n",
       " 'https://en.wikipedia.org/wiki/Timon_of_Phlius',\n",
       " 'https://en.wikipedia.org/w/index.php?title=Python&action=edit&section=8&editintro=Template:Disambig_editintro',\n",
       " 'https://en.wikipedia.org/wiki/Cython',\n",
       " 'https://en.wikipedia.org/wiki/Pyton',\n",
       " 'https://en.wikipedia.org/wiki/Pithon',\n",
       " 'https://en.wikipedia.org/wiki/File:Disambig_gray.svg',\n",
       " 'https://en.wikipedia.org/wiki/Help:Disambiguation',\n",
       " 'https://en.wikipedia.org/w/index.php?title=Special:WhatLinksHere/Python&namespace=0',\n",
       " 'https://en.wikipedia.org/w/index.php?title=Python&oldid=1134693155',\n",
       " 'https://en.wikipedia.org/wiki/Help:Category',\n",
       " 'https://en.wikipedia.org/wiki/Category:Disambiguation_pages',\n",
       " 'https://en.wikipedia.org/wiki/Category:Human_name_disambiguation_pages',\n",
       " 'https://en.wikipedia.org/wiki/Category:Disambiguation_pages_with_given-name-holder_lists',\n",
       " 'https://en.wikipedia.org/wiki/Category:Short_description_is_different_from_Wikidata',\n",
       " 'https://en.wikipedia.org/wiki/Category:All_article_disambiguation_pages',\n",
       " 'https://en.wikipedia.org/wiki/Category:All_disambiguation_pages',\n",
       " 'https://en.wikipedia.org/wiki/Category:Animal_common_name_disambiguation_pages',\n",
       " 'https://en.wikipedia.org/wiki/Wikipedia:Text_of_the_Creative_Commons_Attribution-ShareAlike_3.0_Unported_License',\n",
       " 'https://creativecommons.org/licenses/by-sa/3.0/',\n",
       " 'https://foundation.wikimedia.org/wiki/Terms_of_Use',\n",
       " 'https://foundation.wikimedia.org/wiki/Privacy_policy',\n",
       " 'https://www.wikimediafoundation.org/',\n",
       " 'https://foundation.wikimedia.org/wiki/Privacy_policy',\n",
       " 'https://en.wikipedia.org/wiki/Wikipedia:About',\n",
       " 'https://en.wikipedia.org/wiki/Wikipedia:General_disclaimer',\n",
       " 'https://en.wikipedia.org/wiki/Wikipedia:Contact_us',\n",
       " 'https://en.m.wikipedia.org/w/index.php?title=Python&mobileaction=toggle_view_mobile',\n",
       " 'https://developer.wikimedia.org/',\n",
       " 'https://stats.wikimedia.org/#/en.wikipedia.org',\n",
       " 'https://foundation.wikimedia.org/wiki/Cookie_statement',\n",
       " 'https://en.wikipedia.org/wiki/Python#',\n",
       " 'https://wikimediafoundation.org/',\n",
       " 'https://www.mediawiki.org/',\n",
       " 'https://en.wikipedia.org/wiki/Python?action=edit']"
      ]
     },
     "execution_count": 15,
     "metadata": {},
     "output_type": "execute_result"
    }
   ],
   "source": [
    "lst = []\n",
    "\n",
    "for i in driver.find_elements(By.TAG_NAME, 'a'):\n",
    "    lst.append(i.get_attribute('href'))\n",
    "    \n",
    "lst"
   ]
  },
  {
   "cell_type": "markdown",
   "metadata": {},
   "source": [
    "#### Number of Titles that have changed in the United States Code since its last release point "
   ]
  },
  {
   "cell_type": "code",
   "execution_count": 16,
   "metadata": {},
   "outputs": [],
   "source": [
    "# This is the url you will scrape in this exercise\n",
    "url = 'http://uscode.house.gov/download/download.shtml'\n",
    "driver.get(url)"
   ]
  },
  {
   "cell_type": "code",
   "execution_count": 17,
   "metadata": {},
   "outputs": [
    {
     "data": {
      "text/plain": [
       "14"
      ]
     },
     "execution_count": 17,
     "metadata": {},
     "output_type": "execute_result"
    }
   ],
   "source": [
    "lst = []\n",
    "\n",
    "for i in driver.find_elements(By.CLASS_NAME, 'usctitlechanged'):\n",
    "    \n",
    "    lst.append(i.text)\n",
    "    \n",
    "len(lst)"
   ]
  },
  {
   "cell_type": "markdown",
   "metadata": {},
   "source": [
    "#### A Python list with the top ten FBI's Most Wanted names "
   ]
  },
  {
   "cell_type": "code",
   "execution_count": 18,
   "metadata": {},
   "outputs": [],
   "source": [
    "# This is the url you will scrape in this exercise\n",
    "url = 'https://www.fbi.gov/wanted/topten'\n",
    "driver.get(url)"
   ]
  },
  {
   "cell_type": "code",
   "execution_count": 19,
   "metadata": {},
   "outputs": [
    {
     "data": {
      "text/plain": [
       "['YULAN ADONAY ARCHAGA CARIAS',\n",
       " 'RUJA IGNATOVA',\n",
       " 'ARNOLDO JIMENEZ',\n",
       " 'OMAR ALEXANDER CARDENAS',\n",
       " 'ALEXIS FLORES',\n",
       " 'BHADRESHKUMAR CHETANBHAI PATEL',\n",
       " 'ALEJANDRO ROSALES CASTILLO',\n",
       " 'JOSE RODOLFO VILLARREAL-HERNANDEZ',\n",
       " 'MICHAEL JAMES PRATT',\n",
       " 'RAFAEL CARO-QUINTERO']"
      ]
     },
     "execution_count": 19,
     "metadata": {},
     "output_type": "execute_result"
    }
   ],
   "source": [
    "lst = []\n",
    "\n",
    "for i in driver.find_elements(By.XPATH, '//h3[@class = \"title\"]'):\n",
    "    lst.append(i.text)\n",
    "lst"
   ]
  },
  {
   "cell_type": "markdown",
   "metadata": {},
   "source": [
    "####  20 latest earthquakes info (date, time, latitude, longitude and region name) by the EMSC as a pandas dataframe"
   ]
  },
  {
   "cell_type": "code",
   "execution_count": 50,
   "metadata": {},
   "outputs": [],
   "source": [
    "# This is the url you will scrape in this exercise\n",
    "url = 'https://www.emsc-csem.org/Earthquake/'\n",
    "driver.get(url)"
   ]
  },
  {
   "cell_type": "code",
   "execution_count": 21,
   "metadata": {},
   "outputs": [],
   "source": [
    "tabla = driver.find_elements(By.TAG_NAME, 'table')[3]\n",
    "cabecera = tabla.find_element(By.TAG_NAME,'thead')"
   ]
  },
  {
   "cell_type": "code",
   "execution_count": 22,
   "metadata": {},
   "outputs": [
    {
     "data": {
      "text/plain": [
       "['Date & Time UTC',\n",
       " 'Latitude degrees',\n",
       " 'Longitude degrees',\n",
       " 'Depth km',\n",
       " 'Mag [+]',\n",
       " 'Region name [+]']"
      ]
     },
     "execution_count": 22,
     "metadata": {},
     "output_type": "execute_result"
    }
   ],
   "source": [
    "lst = []\n",
    "\n",
    "for e in cabecera.find_elements(By.TAG_NAME, 'th'):\n",
    "    \n",
    "    lst.append(e.text.replace('\\n', ' '))\n",
    "    \n",
    "col_names = lst[1:7]\n",
    "col_names"
   ]
  },
  {
   "cell_type": "code",
   "execution_count": 23,
   "metadata": {},
   "outputs": [],
   "source": [
    "cuerpo = tabla.find_element(By.XPATH, '//tbody')"
   ]
  },
  {
   "cell_type": "code",
   "execution_count": 24,
   "metadata": {},
   "outputs": [],
   "source": [
    "lst = []\n",
    "for c in tabla.find_elements(By.XPATH, '//tbody//tr//td')[21:]:\n",
    "    lst.append(c.text)"
   ]
  },
  {
   "cell_type": "code",
   "execution_count": 25,
   "metadata": {},
   "outputs": [],
   "source": [
    "date = [w[:23] for w in lst[::13]]"
   ]
  },
  {
   "cell_type": "code",
   "execution_count": 26,
   "metadata": {},
   "outputs": [],
   "source": [
    "lat1 = lst[1::13]\n",
    "lat2 = lst[2::13]\n",
    "lat = [(lat1[i] + lat2[i]).strip() for i in range(len(lat1))]"
   ]
  },
  {
   "cell_type": "code",
   "execution_count": 27,
   "metadata": {},
   "outputs": [],
   "source": [
    "long1 = lst[3::13]\n",
    "long2 = lst[4::13]\n",
    "long = [(long1[i] + long2[i]).strip() for i in range(len(long1))]"
   ]
  },
  {
   "cell_type": "code",
   "execution_count": 28,
   "metadata": {},
   "outputs": [],
   "source": [
    "depth = lst[5::13]"
   ]
  },
  {
   "cell_type": "code",
   "execution_count": 29,
   "metadata": {},
   "outputs": [],
   "source": [
    "mag = lst[7::13]"
   ]
  },
  {
   "cell_type": "code",
   "execution_count": 30,
   "metadata": {},
   "outputs": [],
   "source": [
    "region = lst[8::13]"
   ]
  },
  {
   "cell_type": "code",
   "execution_count": 31,
   "metadata": {},
   "outputs": [
    {
     "data": {
      "text/html": [
       "<div>\n",
       "<style scoped>\n",
       "    .dataframe tbody tr th:only-of-type {\n",
       "        vertical-align: middle;\n",
       "    }\n",
       "\n",
       "    .dataframe tbody tr th {\n",
       "        vertical-align: top;\n",
       "    }\n",
       "\n",
       "    .dataframe thead th {\n",
       "        text-align: right;\n",
       "    }\n",
       "</style>\n",
       "<table border=\"1\" class=\"dataframe\">\n",
       "  <thead>\n",
       "    <tr style=\"text-align: right;\">\n",
       "      <th></th>\n",
       "      <th>Date &amp; Time UTC</th>\n",
       "      <th>Latitude degrees</th>\n",
       "      <th>Longitude degrees</th>\n",
       "      <th>Depth km</th>\n",
       "      <th>Mag [+]</th>\n",
       "      <th>Region name [+]</th>\n",
       "    </tr>\n",
       "  </thead>\n",
       "  <tbody>\n",
       "  </tbody>\n",
       "</table>\n",
       "</div>"
      ],
      "text/plain": [
       "Empty DataFrame\n",
       "Columns: [Date & Time UTC, Latitude degrees, Longitude degrees, Depth km, Mag [+], Region name [+]]\n",
       "Index: []"
      ]
     },
     "execution_count": 31,
     "metadata": {},
     "output_type": "execute_result"
    }
   ],
   "source": [
    "df = pd.DataFrame(columns=col_names)\n",
    "\n",
    "df"
   ]
  },
  {
   "cell_type": "code",
   "execution_count": 32,
   "metadata": {},
   "outputs": [
    {
     "data": {
      "text/html": [
       "<div>\n",
       "<style scoped>\n",
       "    .dataframe tbody tr th:only-of-type {\n",
       "        vertical-align: middle;\n",
       "    }\n",
       "\n",
       "    .dataframe tbody tr th {\n",
       "        vertical-align: top;\n",
       "    }\n",
       "\n",
       "    .dataframe thead th {\n",
       "        text-align: right;\n",
       "    }\n",
       "</style>\n",
       "<table border=\"1\" class=\"dataframe\">\n",
       "  <thead>\n",
       "    <tr style=\"text-align: right;\">\n",
       "      <th></th>\n",
       "      <th>Date &amp; Time UTC</th>\n",
       "      <th>Latitude degrees</th>\n",
       "      <th>Longitude degrees</th>\n",
       "      <th>Depth km</th>\n",
       "      <th>Mag [+]</th>\n",
       "      <th>Region name [+]</th>\n",
       "    </tr>\n",
       "  </thead>\n",
       "  <tbody>\n",
       "    <tr>\n",
       "      <th>0</th>\n",
       "      <td>2023-02-08   20:09:11.5</td>\n",
       "      <td>38.05 N</td>\n",
       "      <td>36.59 E</td>\n",
       "      <td>7</td>\n",
       "      <td>3.3</td>\n",
       "      <td>CENTRAL TURKEY</td>\n",
       "    </tr>\n",
       "    <tr>\n",
       "      <th>1</th>\n",
       "      <td>2023-02-08   20:07:02.7</td>\n",
       "      <td>38.74 N</td>\n",
       "      <td>35.34 E</td>\n",
       "      <td>5</td>\n",
       "      <td>3.5</td>\n",
       "      <td>CENTRAL TURKEY</td>\n",
       "    </tr>\n",
       "    <tr>\n",
       "      <th>2</th>\n",
       "      <td>2023-02-08   20:05:58.5</td>\n",
       "      <td>38.98 N</td>\n",
       "      <td>41.92 E</td>\n",
       "      <td>60</td>\n",
       "      <td>5.4</td>\n",
       "      <td>EASTERN TURKEY</td>\n",
       "    </tr>\n",
       "    <tr>\n",
       "      <th>3</th>\n",
       "      <td>2023-02-08   20:03:16.3</td>\n",
       "      <td>37.51 N</td>\n",
       "      <td>36.92 E</td>\n",
       "      <td>24</td>\n",
       "      <td>2.9</td>\n",
       "      <td>CENTRAL TURKEY</td>\n",
       "    </tr>\n",
       "    <tr>\n",
       "      <th>4</th>\n",
       "      <td>2023-02-08   19:55:17.7</td>\n",
       "      <td>38.05 N</td>\n",
       "      <td>38.02 E</td>\n",
       "      <td>5</td>\n",
       "      <td>2.6</td>\n",
       "      <td>EASTERN TURKEY</td>\n",
       "    </tr>\n",
       "    <tr>\n",
       "      <th>5</th>\n",
       "      <td>2023-02-08   19:48:11.9</td>\n",
       "      <td>36.32 N</td>\n",
       "      <td>36.15 E</td>\n",
       "      <td>8</td>\n",
       "      <td>4.4</td>\n",
       "      <td>TURKEY-SYRIA BORDER REGION</td>\n",
       "    </tr>\n",
       "    <tr>\n",
       "      <th>6</th>\n",
       "      <td>2023-02-08   19:46:54.7</td>\n",
       "      <td>38.12 N</td>\n",
       "      <td>37.25 E</td>\n",
       "      <td>5</td>\n",
       "      <td>2.8</td>\n",
       "      <td>CENTRAL TURKEY</td>\n",
       "    </tr>\n",
       "    <tr>\n",
       "      <th>7</th>\n",
       "      <td>2023-02-08   19:42:09.2</td>\n",
       "      <td>35.98 N</td>\n",
       "      <td>3.81 E</td>\n",
       "      <td>2</td>\n",
       "      <td>3.9</td>\n",
       "      <td>NORTHERN ALGERIA</td>\n",
       "    </tr>\n",
       "    <tr>\n",
       "      <th>8</th>\n",
       "      <td>2023-02-08   19:40:12.1</td>\n",
       "      <td>37.95 N</td>\n",
       "      <td>37.02 E</td>\n",
       "      <td>15</td>\n",
       "      <td>2.9</td>\n",
       "      <td>CENTRAL TURKEY</td>\n",
       "    </tr>\n",
       "    <tr>\n",
       "      <th>9</th>\n",
       "      <td>2023-02-08   19:32:16.0</td>\n",
       "      <td>37.73 N</td>\n",
       "      <td>15.36 E</td>\n",
       "      <td>10</td>\n",
       "      <td>2.7</td>\n",
       "      <td>SICILY, ITALY</td>\n",
       "    </tr>\n",
       "    <tr>\n",
       "      <th>10</th>\n",
       "      <td>2023-02-08   19:23:19.9</td>\n",
       "      <td>38.12 N</td>\n",
       "      <td>38.59 E</td>\n",
       "      <td>2</td>\n",
       "      <td>3.2</td>\n",
       "      <td>EASTERN TURKEY</td>\n",
       "    </tr>\n",
       "    <tr>\n",
       "      <th>11</th>\n",
       "      <td>2023-02-08   19:20:27.7</td>\n",
       "      <td>37.86 N</td>\n",
       "      <td>37.85 E</td>\n",
       "      <td>19</td>\n",
       "      <td>3.4</td>\n",
       "      <td>CENTRAL TURKEY</td>\n",
       "    </tr>\n",
       "    <tr>\n",
       "      <th>12</th>\n",
       "      <td>2023-02-08   19:18:33.5</td>\n",
       "      <td>36.27 N</td>\n",
       "      <td>35.91 E</td>\n",
       "      <td>24</td>\n",
       "      <td>2.8</td>\n",
       "      <td>CENTRAL TURKEY</td>\n",
       "    </tr>\n",
       "    <tr>\n",
       "      <th>13</th>\n",
       "      <td>2023-02-08   19:15:57.2</td>\n",
       "      <td>38.15 N</td>\n",
       "      <td>37.74 E</td>\n",
       "      <td>14</td>\n",
       "      <td>2.8</td>\n",
       "      <td>CENTRAL TURKEY</td>\n",
       "    </tr>\n",
       "    <tr>\n",
       "      <th>14</th>\n",
       "      <td>2023-02-08   19:13:23.7</td>\n",
       "      <td>37.47 N</td>\n",
       "      <td>37.08 E</td>\n",
       "      <td>6</td>\n",
       "      <td>3.1</td>\n",
       "      <td>CENTRAL TURKEY</td>\n",
       "    </tr>\n",
       "    <tr>\n",
       "      <th>15</th>\n",
       "      <td>2023-02-08   19:10:06.1</td>\n",
       "      <td>38.09 N</td>\n",
       "      <td>37.74 E</td>\n",
       "      <td>10</td>\n",
       "      <td>2.8</td>\n",
       "      <td>CENTRAL TURKEY</td>\n",
       "    </tr>\n",
       "    <tr>\n",
       "      <th>16</th>\n",
       "      <td>2023-02-08   19:05:18.4</td>\n",
       "      <td>38.04 N</td>\n",
       "      <td>36.50 E</td>\n",
       "      <td>2</td>\n",
       "      <td>4.0</td>\n",
       "      <td>CENTRAL TURKEY</td>\n",
       "    </tr>\n",
       "    <tr>\n",
       "      <th>17</th>\n",
       "      <td>2023-02-08   19:03:17.2</td>\n",
       "      <td>38.41 N</td>\n",
       "      <td>37.84 E</td>\n",
       "      <td>10</td>\n",
       "      <td>2.6</td>\n",
       "      <td>CENTRAL TURKEY</td>\n",
       "    </tr>\n",
       "    <tr>\n",
       "      <th>18</th>\n",
       "      <td>2023-02-08   18:58:58.4</td>\n",
       "      <td>34.25 N</td>\n",
       "      <td>36.39 E</td>\n",
       "      <td>30</td>\n",
       "      <td>4.3</td>\n",
       "      <td>LEBANON - SYRIA REGION</td>\n",
       "    </tr>\n",
       "    <tr>\n",
       "      <th>19</th>\n",
       "      <td>2023-02-08   18:58:08.3</td>\n",
       "      <td>35.26 N</td>\n",
       "      <td>119.07 W</td>\n",
       "      <td>16</td>\n",
       "      <td>2.0</td>\n",
       "      <td>CENTRAL CALIFORNIA</td>\n",
       "    </tr>\n",
       "  </tbody>\n",
       "</table>\n",
       "</div>"
      ],
      "text/plain": [
       "            Date & Time UTC Latitude degrees Longitude degrees Depth km  \\\n",
       "0   2023-02-08   20:09:11.5          38.05 N           36.59 E        7   \n",
       "1   2023-02-08   20:07:02.7          38.74 N           35.34 E        5   \n",
       "2   2023-02-08   20:05:58.5          38.98 N           41.92 E       60   \n",
       "3   2023-02-08   20:03:16.3          37.51 N           36.92 E       24   \n",
       "4   2023-02-08   19:55:17.7          38.05 N           38.02 E        5   \n",
       "5   2023-02-08   19:48:11.9          36.32 N           36.15 E        8   \n",
       "6   2023-02-08   19:46:54.7          38.12 N           37.25 E        5   \n",
       "7   2023-02-08   19:42:09.2          35.98 N            3.81 E        2   \n",
       "8   2023-02-08   19:40:12.1          37.95 N           37.02 E       15   \n",
       "9   2023-02-08   19:32:16.0          37.73 N           15.36 E       10   \n",
       "10  2023-02-08   19:23:19.9          38.12 N           38.59 E        2   \n",
       "11  2023-02-08   19:20:27.7          37.86 N           37.85 E       19   \n",
       "12  2023-02-08   19:18:33.5          36.27 N           35.91 E       24   \n",
       "13  2023-02-08   19:15:57.2          38.15 N           37.74 E       14   \n",
       "14  2023-02-08   19:13:23.7          37.47 N           37.08 E        6   \n",
       "15  2023-02-08   19:10:06.1          38.09 N           37.74 E       10   \n",
       "16  2023-02-08   19:05:18.4          38.04 N           36.50 E        2   \n",
       "17  2023-02-08   19:03:17.2          38.41 N           37.84 E       10   \n",
       "18  2023-02-08   18:58:58.4          34.25 N           36.39 E       30   \n",
       "19  2023-02-08   18:58:08.3          35.26 N          119.07 W       16   \n",
       "\n",
       "   Mag [+]              Region name [+]  \n",
       "0      3.3               CENTRAL TURKEY  \n",
       "1      3.5               CENTRAL TURKEY  \n",
       "2      5.4               EASTERN TURKEY  \n",
       "3      2.9               CENTRAL TURKEY  \n",
       "4      2.6               EASTERN TURKEY  \n",
       "5      4.4   TURKEY-SYRIA BORDER REGION  \n",
       "6      2.8               CENTRAL TURKEY  \n",
       "7      3.9             NORTHERN ALGERIA  \n",
       "8      2.9               CENTRAL TURKEY  \n",
       "9      2.7                SICILY, ITALY  \n",
       "10     3.2               EASTERN TURKEY  \n",
       "11     3.4               CENTRAL TURKEY  \n",
       "12     2.8               CENTRAL TURKEY  \n",
       "13     2.8               CENTRAL TURKEY  \n",
       "14     3.1               CENTRAL TURKEY  \n",
       "15     2.8               CENTRAL TURKEY  \n",
       "16     4.0               CENTRAL TURKEY  \n",
       "17     2.6               CENTRAL TURKEY  \n",
       "18     4.3       LEBANON - SYRIA REGION  \n",
       "19     2.0           CENTRAL CALIFORNIA  "
      ]
     },
     "execution_count": 32,
     "metadata": {},
     "output_type": "execute_result"
    }
   ],
   "source": [
    "df[col_names[0]] = date\n",
    "\n",
    "df[col_names[1]] = lat\n",
    "\n",
    "df[col_names[2]] = long\n",
    "\n",
    "df[col_names[3]] = depth\n",
    "\n",
    "df[col_names[4]] = mag\n",
    "\n",
    "df[col_names[5]] = region\n",
    "\n",
    "df.head(20)"
   ]
  },
  {
   "cell_type": "code",
   "execution_count": null,
   "metadata": {},
   "outputs": [],
   "source": []
  },
  {
   "cell_type": "markdown",
   "metadata": {},
   "source": [
    "#### Count number of tweets by a given Twitter account."
   ]
  },
  {
   "cell_type": "markdown",
   "metadata": {},
   "source": [
    "You will need to include a ***try/except block*** for account names not found. \n",
    "<br>***Hint:*** the program should count the number of tweets for any provided account"
   ]
  },
  {
   "cell_type": "code",
   "execution_count": 33,
   "metadata": {},
   "outputs": [],
   "source": [
    "# This is the url you will scrape in this exercise \n",
    "# You will need to add the account credentials to this url\n",
    "url = 'https://twitter.com/'"
   ]
  },
  {
   "cell_type": "code",
   "execution_count": 34,
   "metadata": {},
   "outputs": [],
   "source": [
    "#your code"
   ]
  },
  {
   "cell_type": "markdown",
   "metadata": {},
   "source": [
    "#### Number of followers of a given twitter account"
   ]
  },
  {
   "cell_type": "markdown",
   "metadata": {},
   "source": [
    "You will need to include a ***try/except block*** in case account/s name not found. \n",
    "<br>***Hint:*** the program should count the followers for any provided account"
   ]
  },
  {
   "cell_type": "code",
   "execution_count": 32,
   "metadata": {},
   "outputs": [],
   "source": [
    "# This is the url you will scrape in this exercise \n",
    "# You will need to add the account credentials to this url\n",
    "url = 'https://twitter.com/'"
   ]
  },
  {
   "cell_type": "code",
   "execution_count": 33,
   "metadata": {},
   "outputs": [
    {
     "name": "stdout",
     "output_type": "stream",
     "text": [
      "Dame un usuario: davidbroncano\n"
     ]
    }
   ],
   "source": [
    "usuario = input('Dame un usuario: ')"
   ]
  },
  {
   "cell_type": "code",
   "execution_count": 47,
   "metadata": {},
   "outputs": [],
   "source": [
    "url2 = 'https://twitter.com/' + usuario"
   ]
  },
  {
   "cell_type": "code",
   "execution_count": 51,
   "metadata": {},
   "outputs": [],
   "source": [
    "driver.get(url2)"
   ]
  },
  {
   "cell_type": "code",
   "execution_count": null,
   "metadata": {},
   "outputs": [],
   "source": [
    "driver"
   ]
  },
  {
   "cell_type": "code",
   "execution_count": null,
   "metadata": {},
   "outputs": [],
   "source": []
  },
  {
   "cell_type": "code",
   "execution_count": null,
   "metadata": {},
   "outputs": [],
   "source": []
  },
  {
   "cell_type": "markdown",
   "metadata": {},
   "source": [
    "#### List all language names and number of related articles in the order they appear in wikipedia.org"
   ]
  },
  {
   "cell_type": "code",
   "execution_count": 37,
   "metadata": {},
   "outputs": [],
   "source": [
    "# This is the url you will scrape in this exercise\n",
    "url = 'https://www.wikipedia.org/'\n",
    "driver.get(url)"
   ]
  },
  {
   "cell_type": "code",
   "execution_count": 38,
   "metadata": {},
   "outputs": [
    {
     "name": "stdout",
     "output_type": "stream",
     "text": [
      "Español 1 833 000+ artículos\n",
      "English 6 606 000+ articles\n",
      "Русский 1 887 000+ статей\n",
      "日本語 1 359 000+ 記事\n",
      "Deutsch 2 764 000+ Artikel\n",
      "Français 2 488 000+ articles\n",
      "Italiano 1 792 000+ voci\n",
      "中文 1 331 000+ 条目 / 條目\n",
      "Polski 1 552 000+ haseł\n"
     ]
    }
   ],
   "source": [
    "for i in driver.find_elements(By.XPATH, '//div[@dir = \"ltr\"]'):\n",
    "    print(i.text.replace('\\n', ' '))"
   ]
  },
  {
   "cell_type": "markdown",
   "metadata": {},
   "source": [
    "#### A list with the different kind of datasets available in data.gov.uk "
   ]
  },
  {
   "cell_type": "code",
   "execution_count": 39,
   "metadata": {},
   "outputs": [],
   "source": [
    "# This is the url you will scrape in this exercise\n",
    "url = 'https://data.gov.uk/'\n",
    "driver.get(url)"
   ]
  },
  {
   "cell_type": "code",
   "execution_count": 40,
   "metadata": {},
   "outputs": [
    {
     "data": {
      "text/plain": [
       "['Business and economy',\n",
       " 'Crime and justice',\n",
       " 'Defence',\n",
       " 'Education',\n",
       " 'Environment',\n",
       " 'Government',\n",
       " 'Government spending',\n",
       " 'Health',\n",
       " 'Mapping',\n",
       " 'Society',\n",
       " 'Towns and cities',\n",
       " 'Transport',\n",
       " 'Digital service performance',\n",
       " 'Government reference data']"
      ]
     },
     "execution_count": 40,
     "metadata": {},
     "output_type": "execute_result"
    }
   ],
   "source": [
    "govs = []\n",
    "\n",
    "for i in driver.find_elements(By.XPATH, '//h3//a'):\n",
    "    govs.append(i.text)\n",
    "govs"
   ]
  },
  {
   "cell_type": "markdown",
   "metadata": {},
   "source": [
    "#### Top 10 languages by number of native speakers stored in a Pandas Dataframe"
   ]
  },
  {
   "cell_type": "code",
   "execution_count": 41,
   "metadata": {},
   "outputs": [],
   "source": [
    "# This is the url you will scrape in this exercise\n",
    "url = 'https://en.wikipedia.org/wiki/List_of_languages_by_number_of_native_speakers'\n",
    "driver.get(url)"
   ]
  },
  {
   "cell_type": "code",
   "execution_count": 62,
   "metadata": {},
   "outputs": [
    {
     "data": {
      "text/plain": [
       "['Language', 'Native speakers (millions)']"
      ]
     },
     "execution_count": 62,
     "metadata": {},
     "output_type": "execute_result"
    }
   ],
   "source": [
    "col_names = []\n",
    "\n",
    "for i in driver.find_elements(By.XPATH, '//*[@id=\"mw-content-text\"]/div[1]/table[1]//thead//th')[:2]:\n",
    "    col_names.append(i.text.replace('\\n', ' '))\n",
    "\n",
    "col_names"
   ]
  },
  {
   "cell_type": "code",
   "execution_count": 71,
   "metadata": {},
   "outputs": [],
   "source": [
    "lang = []\n",
    "\n",
    "for i in driver.find_elements(By.XPATH, '//*[@id=\"mw-content-text\"]/div[1]/table[1]//tbody//tr//td[1]'):\n",
    "    lang.append(i.text)"
   ]
  },
  {
   "cell_type": "code",
   "execution_count": 72,
   "metadata": {},
   "outputs": [],
   "source": [
    "speakers = []\n",
    "\n",
    "for i in driver.find_elements(By.XPATH, '//*[@id=\"mw-content-text\"]/div[1]/table[1]//tbody//tr//td[2]'):\n",
    "    speakers.append(i.text)"
   ]
  },
  {
   "cell_type": "code",
   "execution_count": 75,
   "metadata": {},
   "outputs": [
    {
     "data": {
      "text/html": [
       "<div>\n",
       "<style scoped>\n",
       "    .dataframe tbody tr th:only-of-type {\n",
       "        vertical-align: middle;\n",
       "    }\n",
       "\n",
       "    .dataframe tbody tr th {\n",
       "        vertical-align: top;\n",
       "    }\n",
       "\n",
       "    .dataframe thead th {\n",
       "        text-align: right;\n",
       "    }\n",
       "</style>\n",
       "<table border=\"1\" class=\"dataframe\">\n",
       "  <thead>\n",
       "    <tr style=\"text-align: right;\">\n",
       "      <th></th>\n",
       "      <th>Language</th>\n",
       "      <th>Native speakers (millions)</th>\n",
       "    </tr>\n",
       "  </thead>\n",
       "  <tbody>\n",
       "    <tr>\n",
       "      <th>0</th>\n",
       "      <td>Mandarin Chinese\\n(incl. Standard Chinese, but...</td>\n",
       "      <td>920</td>\n",
       "    </tr>\n",
       "    <tr>\n",
       "      <th>1</th>\n",
       "      <td>Spanish</td>\n",
       "      <td>475</td>\n",
       "    </tr>\n",
       "    <tr>\n",
       "      <th>2</th>\n",
       "      <td>English</td>\n",
       "      <td>373</td>\n",
       "    </tr>\n",
       "    <tr>\n",
       "      <th>3</th>\n",
       "      <td>Hindi\\n(excl. Urdu)</td>\n",
       "      <td>344</td>\n",
       "    </tr>\n",
       "    <tr>\n",
       "      <th>4</th>\n",
       "      <td>Bengali</td>\n",
       "      <td>234</td>\n",
       "    </tr>\n",
       "    <tr>\n",
       "      <th>5</th>\n",
       "      <td>Portuguese</td>\n",
       "      <td>232</td>\n",
       "    </tr>\n",
       "    <tr>\n",
       "      <th>6</th>\n",
       "      <td>Russian</td>\n",
       "      <td>154</td>\n",
       "    </tr>\n",
       "    <tr>\n",
       "      <th>7</th>\n",
       "      <td>Japanese</td>\n",
       "      <td>125</td>\n",
       "    </tr>\n",
       "    <tr>\n",
       "      <th>8</th>\n",
       "      <td>Yue Chinese\\n(incl. Cantonese)</td>\n",
       "      <td>85.2</td>\n",
       "    </tr>\n",
       "    <tr>\n",
       "      <th>9</th>\n",
       "      <td>Vietnamese</td>\n",
       "      <td>84.6</td>\n",
       "    </tr>\n",
       "  </tbody>\n",
       "</table>\n",
       "</div>"
      ],
      "text/plain": [
       "                                            Language  \\\n",
       "0  Mandarin Chinese\\n(incl. Standard Chinese, but...   \n",
       "1                                            Spanish   \n",
       "2                                            English   \n",
       "3                                Hindi\\n(excl. Urdu)   \n",
       "4                                            Bengali   \n",
       "5                                         Portuguese   \n",
       "6                                            Russian   \n",
       "7                                           Japanese   \n",
       "8                     Yue Chinese\\n(incl. Cantonese)   \n",
       "9                                         Vietnamese   \n",
       "\n",
       "  Native speakers (millions)  \n",
       "0                        920  \n",
       "1                        475  \n",
       "2                        373  \n",
       "3                        344  \n",
       "4                        234  \n",
       "5                        232  \n",
       "6                        154  \n",
       "7                        125  \n",
       "8                       85.2  \n",
       "9                       84.6  "
      ]
     },
     "execution_count": 75,
     "metadata": {},
     "output_type": "execute_result"
    }
   ],
   "source": [
    "df = pd.DataFrame(columns=col_names)\n",
    "df[col_names[0]] = lang\n",
    "\n",
    "df[col_names[1]] = speakers\n",
    "df.head(10)"
   ]
  },
  {
   "cell_type": "markdown",
   "metadata": {},
   "source": [
    "### BONUS QUESTIONS"
   ]
  },
  {
   "cell_type": "markdown",
   "metadata": {},
   "source": [
    "#### Scrape a certain number of tweets of a given Twitter account."
   ]
  },
  {
   "cell_type": "code",
   "execution_count": 43,
   "metadata": {},
   "outputs": [],
   "source": [
    "# This is the url you will scrape in this exercise \n",
    "# You will need to add the account credentials to this url\n",
    "url = 'https://twitter.com/'"
   ]
  },
  {
   "cell_type": "code",
   "execution_count": 44,
   "metadata": {},
   "outputs": [],
   "source": [
    "# your code"
   ]
  },
  {
   "cell_type": "markdown",
   "metadata": {},
   "source": [
    "#### IMDB's Top 250 data (movie name, Initial release, director name and stars) as a pandas dataframe"
   ]
  },
  {
   "cell_type": "code",
   "execution_count": 45,
   "metadata": {},
   "outputs": [],
   "source": [
    "# This is the url you will scrape in this exercise \n",
    "url = 'https://www.imdb.com/chart/top'"
   ]
  },
  {
   "cell_type": "code",
   "execution_count": 46,
   "metadata": {},
   "outputs": [],
   "source": [
    "# your code"
   ]
  },
  {
   "cell_type": "markdown",
   "metadata": {},
   "source": [
    "#### Movie name, year and a brief summary of the top 10 random movies (IMDB) as a pandas dataframe."
   ]
  },
  {
   "cell_type": "code",
   "execution_count": 47,
   "metadata": {},
   "outputs": [],
   "source": [
    "#This is the url you will scrape in this exercise\n",
    "url = 'http://www.imdb.com/chart/top'"
   ]
  },
  {
   "cell_type": "code",
   "execution_count": 48,
   "metadata": {},
   "outputs": [],
   "source": [
    "#your code"
   ]
  },
  {
   "cell_type": "markdown",
   "metadata": {},
   "source": [
    "#### Find the live weather report (temperature, wind speed, description and weather) of a given city."
   ]
  },
  {
   "cell_type": "code",
   "execution_count": 49,
   "metadata": {},
   "outputs": [
    {
     "name": "stdout",
     "output_type": "stream",
     "text": [
      "Enter the city:m\n"
     ]
    }
   ],
   "source": [
    "#https://openweathermap.org/current\n",
    "city = city=input('Enter the city:')\n",
    "url = 'http://api.openweathermap.org/data/2.5/weather?'+'q='+city+'&APPID=b35975e18dc93725acb092f7272cc6b8&units=metric'"
   ]
  },
  {
   "cell_type": "code",
   "execution_count": 50,
   "metadata": {},
   "outputs": [],
   "source": [
    "# your code"
   ]
  },
  {
   "cell_type": "markdown",
   "metadata": {},
   "source": [
    "#### Book name,price and stock availability as a pandas dataframe."
   ]
  },
  {
   "cell_type": "code",
   "execution_count": 51,
   "metadata": {},
   "outputs": [],
   "source": [
    "# This is the url you will scrape in this exercise. \n",
    "# It is a fictional bookstore created to be scraped. \n",
    "url = 'http://books.toscrape.com/'"
   ]
  },
  {
   "cell_type": "code",
   "execution_count": 52,
   "metadata": {},
   "outputs": [],
   "source": [
    "#your code"
   ]
  }
 ],
 "metadata": {
  "kernelspec": {
   "display_name": "Python 3 (ipykernel)",
   "language": "python",
   "name": "python3"
  },
  "language_info": {
   "codemirror_mode": {
    "name": "ipython",
    "version": 3
   },
   "file_extension": ".py",
   "mimetype": "text/x-python",
   "name": "python",
   "nbconvert_exporter": "python",
   "pygments_lexer": "ipython3",
   "version": "3.9.13"
  }
 },
 "nbformat": 4,
 "nbformat_minor": 2
}
